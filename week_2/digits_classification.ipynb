{
 "cells": [
  {
   "cell_type": "markdown",
   "metadata": {
    "slideshow": {
     "slide_type": "slide"
    }
   },
   "source": [
    "# MNIST digits classification with TensorFlow"
   ]
  },
  {
   "cell_type": "markdown",
   "metadata": {},
   "source": [
    "<img src=\"images/mnist_sample.png\" style=\"width:30%\">"
   ]
  },
  {
   "cell_type": "code",
   "execution_count": 1,
   "metadata": {},
   "outputs": [
    {
     "name": "stdout",
     "output_type": "stream",
     "text": [
      "We're using TF 1.2.1\n"
     ]
    }
   ],
   "source": [
    "import numpy as np\n",
    "from sklearn.metrics import accuracy_score\n",
    "from matplotlib import pyplot as plt\n",
    "%matplotlib inline\n",
    "import tensorflow as tf\n",
    "print(\"We're using TF\", tf.__version__)"
   ]
  },
  {
   "cell_type": "code",
   "execution_count": 2,
   "metadata": {},
   "outputs": [
    {
     "name": "stderr",
     "output_type": "stream",
     "text": [
      "Using TensorFlow backend.\n"
     ]
    }
   ],
   "source": [
    "import sys\n",
    "sys.path.append(\"../..\")\n",
    "import grading\n",
    "\n",
    "import matplotlib_utils\n",
    "from importlib import reload\n",
    "reload(matplotlib_utils)\n",
    "\n",
    "import grading_utils\n",
    "reload(grading_utils)\n",
    "\n",
    "import keras_utils\n",
    "from keras_utils import reset_tf_session"
   ]
  },
  {
   "cell_type": "markdown",
   "metadata": {},
   "source": [
    "# Fill in your Coursera token and email\n",
    "To successfully submit your answers to our grader, please fill in your Coursera submission token and email"
   ]
  },
  {
   "cell_type": "code",
   "execution_count": 3,
   "metadata": {
    "collapsed": true
   },
   "outputs": [],
   "source": [
    "grader = grading.Grader(assignment_key=\"XtD7ho3TEeiHQBLWejjYAA\", \n",
    "                        all_parts=[\"9XaAS\", \"vmogZ\", \"RMv95\", \"i8bgs\", \"rE763\"])"
   ]
  },
  {
   "cell_type": "code",
   "execution_count": 76,
   "metadata": {
    "collapsed": true
   },
   "outputs": [],
   "source": [
    "# token expires every 30 min\n",
    "COURSERA_TOKEN = \"tyiBMqzEvrBkySNQ\"\n",
    "COURSERA_EMAIL = \"khanin_maksim@mail.ru\""
   ]
  },
  {
   "cell_type": "markdown",
   "metadata": {},
   "source": [
    "# Look at the data\n",
    "\n",
    "In this task we have 50000 28x28 images of digits from 0 to 9.\n",
    "We will train a classifier on this data."
   ]
  },
  {
   "cell_type": "code",
   "execution_count": 5,
   "metadata": {
    "collapsed": true
   },
   "outputs": [],
   "source": [
    "import preprocessed_mnist\n",
    "X_train, y_train, X_val, y_val, X_test, y_test = preprocessed_mnist.load_dataset_from_file()"
   ]
  },
  {
   "cell_type": "code",
   "execution_count": 6,
   "metadata": {},
   "outputs": [
    {
     "name": "stdout",
     "output_type": "stream",
     "text": [
      "X_train [shape (50000, 28, 28)] sample patch:\n",
      " [[ 0.          0.29803922  0.96470588  0.98823529  0.43921569]\n",
      " [ 0.          0.33333333  0.98823529  0.90196078  0.09803922]\n",
      " [ 0.          0.33333333  0.98823529  0.8745098   0.        ]\n",
      " [ 0.          0.33333333  0.98823529  0.56862745  0.        ]\n",
      " [ 0.          0.3372549   0.99215686  0.88235294  0.        ]]\n",
      "A closeup of a sample patch:\n"
     ]
    },
    {
     "data": {
      "image/png": "[encoded data removed]",
      "text/plain": [
       "<matplotlib.figure.Figure at 0x7f754c15b668>"
      ]
     },
     "metadata": {},
     "output_type": "display_data"
    },
    {
     "name": "stdout",
     "output_type": "stream",
     "text": [
      "And the whole sample:\n"
     ]
    },
    {
     "data": {
      "image/png": "[encoded data removed]",
      "text/plain": [
       "<matplotlib.figure.Figure at 0x7f754bb30eb8>"
      ]
     },
     "metadata": {},
     "output_type": "display_data"
    },
    {
     "name": "stdout",
     "output_type": "stream",
     "text": [
      "y_train [shape (50000,)] 10 samples:\n",
      " [5 0 4 1 9 2 1 3 1 4]\n"
     ]
    }
   ],
   "source": [
    "# X contains rgb values divided by 255\n",
    "print(\"X_train [shape %s] sample patch:\\n\" % (str(X_train.shape)), X_train[1, 15:20, 5:10])\n",
    "print(\"A closeup of a sample patch:\")\n",
    "plt.imshow(X_train[1, 15:20, 5:10], cmap=\"Greys\")\n",
    "plt.show()\n",
    "print(\"And the whole sample:\")\n",
    "plt.imshow(X_train[1], cmap=\"Greys\")\n",
    "plt.show()\n",
    "print(\"y_train [shape %s] 10 samples:\\n\" % (str(y_train.shape)), y_train[:10])"
   ]
  },
  {
   "cell_type": "markdown",
   "metadata": {},
   "source": [
    "# Linear model\n",
    "\n",
    "Your task is to train a linear classifier $\\vec{x} \\rightarrow y$ with SGD using TensorFlow.\n",
    "\n",
    "You will need to calculate a logit (a linear transformation) $z_k$ for each class: \n",
    "$$z_k = \\vec{x} \\cdot \\vec{w_k} + b_k \\quad k = 0..9$$\n",
    "\n",
    "And transform logits $z_k$ to valid probabilities $p_k$ with softmax: \n",
    "$$p_k = \\frac{e^{z_k}}{\\sum_{i=0}^{9}{e^{z_i}}} \\quad k = 0..9$$\n",
    "\n",
    "We will use a cross-entropy loss to train our multi-class classifier:\n",
    "$$\\text{cross-entropy}(y, p) = -\\sum_{k=0}^{9}{\\log(p_k)[y = k]}$$ \n",
    "\n",
    "where \n",
    "$$\n",
    "[x]=\\begin{cases}\n",
    "       1, \\quad \\text{if $x$ is true} \\\\\n",
    "       0, \\quad \\text{otherwise}\n",
    "    \\end{cases}\n",
    "$$\n",
    "\n",
    "Cross-entropy minimization pushes $p_k$ close to 1 when $y = k$, which is what we want.\n",
    "\n",
    "Here's the plan:\n",
    "* Flatten the images (28x28 -> 784) with `X_train.reshape((X_train.shape[0], -1))` to simplify our linear model implementation\n",
    "* Use a matrix placeholder for flattened `X_train`\n",
    "* Convert `y_train` to one-hot encoded vectors that are needed for cross-entropy\n",
    "* Use a shared variable `W` for all weights (a column $\\vec{w_k}$ per class) and `b` for all biases.\n",
    "* Aim for ~0.93 validation accuracy"
   ]
  },
  {
   "cell_type": "code",
   "execution_count": 62,
   "metadata": {},
   "outputs": [
    {
     "name": "stdout",
     "output_type": "stream",
     "text": [
      "(50000, 784)\n",
      "(10000, 784)\n"
     ]
    }
   ],
   "source": [
    "X_train_flat = X_train.reshape((X_train.shape[0], -1))\n",
    "print(X_train_flat.shape)\n",
    "\n",
    "X_val_flat = X_val.reshape((X_val.shape[0], -1))\n",
    "print(X_val_flat.shape)"
   ]
  },
  {
   "cell_type": "code",
   "execution_count": 63,
   "metadata": {},
   "outputs": [
    {
     "name": "stdout",
     "output_type": "stream",
     "text": [
      "(50000, 10)\n",
      "[[ 0.  0.  0.  0.  0.  1.  0.  0.  0.  0.]\n",
      " [ 1.  0.  0.  0.  0.  0.  0.  0.  0.  0.]\n",
      " [ 0.  0.  0.  0.  1.  0.  0.  0.  0.  0.]] [5 0 4]\n"
     ]
    }
   ],
   "source": [
    "import keras\n",
    "\n",
    "y_train_oh = keras.utils.to_categorical(y_train, 10)\n",
    "y_val_oh = keras.utils.to_categorical(y_val, 10)\n",
    "\n",
    "print(y_train_oh.shape)\n",
    "print(y_train_oh[:3], y_train[:3])"
   ]
  },
  {
   "cell_type": "code",
   "execution_count": 71,
   "metadata": {
    "collapsed": true
   },
   "outputs": [],
   "source": [
    "# run this again if you remake your graph\n",
    "s = reset_tf_session()"
   ]
  },
  {
   "cell_type": "code",
   "execution_count": 72,
   "metadata": {
    "collapsed": true
   },
   "outputs": [],
   "source": [
    "# Model parameters: W and b\n",
    "W = tf.get_variable(\"w\", shape=(784,10), dtype=tf.float32, trainable=True)\n",
    "### YOUR CODE HERE ### tf.get_variable(...) with shape[0] = 784\n",
    "b = tf.get_variable(\"b\", shape=(10), dtype=tf.float32, trainable=True)### YOUR CODE HERE ### tf.get_variable(...)"
   ]
  },
  {
   "cell_type": "code",
   "execution_count": 73,
   "metadata": {
    "collapsed": true
   },
   "outputs": [],
   "source": [
    "# Placeholders for the input data\n",
    "input_X = tf.placeholder(tf.float32, shape=(None, 784)) ### YOUR CODE HERE ### tf.placeholder(...) for flat X with shape[0] = None for any batch size\n",
    "input_y = tf.placeholder(tf.int8, shape=(None, 10)) ### YOUR CODE HERE ### tf.placeholder(...) for one-hot encoded true labels"
   ]
  },
  {
   "cell_type": "code",
   "execution_count": 74,
   "metadata": {
    "collapsed": true
   },
   "outputs": [],
   "source": [
    "# Compute predictions\n",
    "logits = tf.matmul(input_X, W) + b  ### YOUR CODE HERE ### logits for input_X, resulting shape should be [input_X.shape[0], 10]\n",
    "probas = tf.nn.softmax(logits) ### YOUR CODE HERE ### apply tf.nn.softmax to logits\n",
    "classes = tf.argmax(probas, axis=1) ### YOUR CODE HERE ### apply tf.argmax to find a class index with highest probability\n",
    "\n",
    "# Loss should be a scalar number: average loss over all the objects with tf.reduce_mean().\n",
    "# Use tf.nn.softmax_cross_entropy_with_logits on top of one-hot encoded input_y and logits.\n",
    "# It is identical to calculating cross-entropy on top of probas, but is more numerically friendly (read the docs).\n",
    "loss = tf.reduce_mean(tf.nn.softmax_cross_entropy_with_logits(labels=input_y, logits=logits)) ### YOUR CODE HERE ### cross-entropy loss\n",
    "\n",
    "# Use a default tf.train.AdamOptimizer to get an SGD step\\\n",
    "optimizer = tf.train.AdamOptimizer()\n",
    "step = optimizer.minimize(loss)  ### YOUR CODE HERE ### optimizer step that minimizes the loss"
   ]
  },
  {
   "cell_type": "code",
   "execution_count": 97,
   "metadata": {
    "scrolled": false
   },
   "outputs": [
    {
     "data": {
      "text/html": [
       "<img src=\"data:image/jpeg;base64,/9j/4AAQSkZJRgABAQAAAQABAAD/2wBDAAIBAQEBAQIBAQECAgICAgQDAgICAgUEBAMEBgUGBgYFBgYGBwkIBgcJBwYGCAsICQoKCgoKBggLDAsKDAkKCgr/2wBDAQICAgICAgUDAwUKBwYHCgoKCgoKCgoKCgoKCgoKCgoKCgoKCgoKCgoKCgoKCgoKCgoKCgoKCgoKCgoKCgoKCgr/wAARCAEgA2ADASIAAhEBAxEB/8QAHwAAAQUBAQEBAQEAAAAAAAAAAAECAwQFBgcICQoL/8QAtRAAAgEDAwIEAwUFBAQAAAF9AQIDAAQRBRIhMUEGE1FhByJxFDKBkaEII0KxwRVS0fAkM2JyggkKFhcYGRolJicoKSo0NTY3ODk6Q0RFRkdISUpTVFVWV1hZWmNkZWZnaGlqc3R1dnd4eXqDhIWGh4iJipKTlJWWl5iZmqKjpKWmp6ipqrKztLW2t7i5usLDxMXGx8jJytLT1NXW19jZ2uHi4%2BTl5ufo6erx8vP09fb3%2BPn6/8QAHwEAAwEBAQEBAQEBAQAAAAAAAAECAwQFBgcICQoL/8QAtREAAgECBAQDBAcFBAQAAQJ3AAECAxEEBSExBhJBUQdhcRMiMoEIFEKRobHBCSMzUvAVYnLRChYkNOEl8RcYGRomJygpKjU2Nzg5OkNERUZHSElKU1RVVldYWVpjZGVmZ2hpanN0dXZ3eHl6goOEhYaHiImKkpOUlZaXmJmaoqOkpaanqKmqsrO0tba3uLm6wsPExcbHyMnK0tPU1dbX2Nna4uPk5ebn6Onq8vP09fb3%2BPn6/9oADAMBAAIRAxEAPwD9/KKKKACiiigAooooAKKKKACiiigAooooAKKKKACiiigAooooAKKKKACiiigAooooAKKKKACiiigAooooAKKKKACiiigAooooAKKKKACiiigAooooAKKKKACiiigAooooAKKKKACiiigAooooAKKKKACiiigAooooAKKKKACiiigAooooAKKKKACiiigAooooAKKKKACiiigAooooAKKKKACiiigAooooAKKKKACiiigAooooAKKKKACiiigAooooAKKKKACiiigAooooAKKKKACiiigAooooAKKKKACiiigAooooAKKKKACiiigAooooAKKKKACiiigAooooAKKKKACiiigAooooAKKKKACvPfjt%2B1J8FP2b5NGsfil4g1Maj4ilnTQNB8OeF9R1zVNR8lVed4bHTbee5kjiVkMkixlI96biu5c%2BhV4N%2B0P8D/j5/wANJ%2BDv2tv2bLLwfrWueH/B2seFNX8KeOdcutLtLywv7mwuxcQXtraXj288U2noCpt3WVJSCUKK1ABpf/BTL9izWLvxPb2nxXv0h8FWsk/jLUrvwXrEFjoIS0iu9l5dy2iwWsrQzRskMjrJIWKorMrKL2n/APBQ/wDZK1HwBrXxFTx/q9vB4f1ay0vVdE1DwNrNrrkV5ebfscC6PNaLqEr3AYGER27eaAxTcFYjy2b9gH4y%2BMf2a/jn8NfGHinwppHin4o/FS38daHc6U1xeWFpeW0OiywQ3IkihkkiN3pRRwoyYHGDuJVaPi79i/8AaV%2BLmr/Ef45fG34S/CjWvFnjWx8KaPp/gKy%2BI2s2Wm6fY6Hcaldw3qa7b6al5DqDXOqTOksVoPJSKNFZiWcgHsviH9vv9mzwv4a8OeI9XvvG3meK0v5NE8P2vwm8SXGuSRWUscV3NJpMWntf28MLzQq8s0CIpmiy37xM%2Bmaz8RPBHhv4e3XxX8T%2BJbbSvDljo76rf6vqrfZYbSySIzPPMZdvlKsYLNvxtAOcYNfGHin9hH9s/WPgX4X8Nay3hfxV470a58RHRfGV/wDHbxNpGr%2BCLW%2BuUktLO11q1sJLzXIYkjhEy3qw/aTbReYCFGPUfjR/wTotfj1%2Bzb4n%2BHHxD%2BOfjW78d%2BMPhfH4Z17xS3jbWho818tpDE2oJoS3y2FuzzQLK3kRRSEPIBIrSM5AOkg/4KUfsZf8K58V/FbWPite6Jo3giysr7xQ/ifwdq%2Bk3NlZXkxhtb37LeWsVxJaSyK6pcxxtC3luQ%2BEYjj/AI3f8FZP2d/hn8ENU%2BMfgPRfFXiqbQfiD4X8L674Y/4QXXbHU7A6zqVrax3T2cmnNdeV5Fw88DeT5d48aW8MhknjB8r1T/gmJ8ZPHfwq8faR4i8DeG9G8Y%2BI9D0fR7DxDqv7RfjPxut3aWusW%2BoTRyf27AfsEZ8likUSzHe%2BGkxknv8A9qH9gz40/GD4g/F/4g%2BBfEPheOTxfB8LbzwlZ6tfXMSvf%2BE/EdzrUsN40dvJ5ENwGt4VljEzrl2MfyKrgHqFh/wUE/Zb1H4m2XwZh8T%2BJo/Fd5oun6xLoF38N9egudO0%2B9adILu/SSyU6dDut5VeS68pYiFEhQum6j4a/wCCmH7FPi3wZ4s%2BIWkfGC4TR/Bfgi68Zaxe6h4S1W0Fx4et0Z5tWsVntUbVLNVQ4nsxPGxZArEugbB0P9kP4ofEP4mfG74g/G9fD2gxfGj4O%2BHfCF1Y%2BE9duNRl0u4tE11Ltlnns7XzYwNViMT7FZikm6OPA3fN37Y37Kn7UOj/ALDHxS%2BJv7TF34AtIfhD%2BxT8QfBHhePwFqF5cNrzXukWxn1G6W5toBYqE0i3CWcbXAVppCZ22oKAPrPw9/wUl/Yy8TaHrHiPT/i1dQWehppU1/JqnhLVbJmtNSu1s7HUIUuLVGubCWdgovoQ9qoDO0qorMPT9E%2BLvw88R/FLX/gvofiH7T4k8LaXp%2Boa/YR2k22zgvmuBa7pinlF3%2ByzHy1cyKoRmVVkjLfJOofsz%2BIPFegeKfjb/wAFIvF/wz8J%2BBbf9nu5%2BHUlx4f8QTLay6beyQyXmq3k17BbpYOTBbCG2QzCAmT/AEiQsuOw/wCCPngP4u2f7I9r8f8A9pDUDf8AxJ%2BL15H4n8V6g9nJbtJCLSCy01fKl%2BeH/iX2lpI0TYKSzTZAYtkA%2BqqKKKACiiigAooooAKKKKACiiigAooooAKKKKACiiigAooooAKKKKACiiigAooooAKKKKACiiigAooooAKKKKACiiigAooooAK8R0j/AIKMfse6ld69Z6n8Urzw83hzw5c%2BINQk8a%2BEdV0GObSbd0jnv7WTUrWBb63R5IlaW2MqAyxjOXXPtN7FczWcsNndCCZ4mWKYx7/LYjhtp64POO9fmJq//BHL9uX4v6t4X1z43fHHQ31vw14P1Cz1DxRqHxW8TeJx4h1v7ZpV9a6idLvoobLSbaS50xfPsLIBRHJtWWQKgUA%2B2X/b/wD2YbX4aN8WNY8QeKtK0ttcg0axs9c%2BGWv2GqanfzIZIYLLTbixS9v2kQM6/Z4ZAyo7AkIxHReA/wBqz4H/ABH1%2By8J%2BHPEOqQ6vf8AhSfxJDpGteFdS0y7TTYbv7JLLLDeW8UkDrP8hhkVZe%2BzbzXk3xO%2BDn7bvxib4e/G3XPBvwq0P4h/Cjx1NrHh/wAM2vjjUr/Rdcs7jSbvTLmO4vn0qGaxmKXskkbpa3AjMQU%2BYJGxV%2BJPwG/bg1/4y%2BHf2mvA%2BjfCu08WX3ww1XwX4x0LUvFepSWGkLcX8N1a39lcJpwk1AxCN1kt5YrQSlxiWLHIB3Gk/wDBRv8AZA8R694F8LeFfiNqus6n8SfBuleLfBunaJ4H1m9nvND1F9lrqMiQWjNa2%2B7HmSTiNbcMpm8oMCdj4a/tufs3fFf4jXPwn8M%2BL9Ws9ft9LudThsvE/gzVtEW/sbeRI57uyl1G1gjv4I3liDy2zSIvmISQGUnyj9hT9hL4sfsw6/8ADjWfHniDw1dnwd%2Byl4R%2BGN%2B%2BkXM8rNq2lvM1zNF5kEe61bemxmKu235o0wK8a%2BGn/BKv9sbxP8UfC/ib9qb4w2eqRaf4A8V%2BF/GniaD4v%2BJNavPEUur2KW39p2umX0Men6EcqWNpaKUXKgTOI1WgD6l8J/8ABRf9kfxrosfirQfHeuf2Hcarpen6f4lvfh/rdrpWoy6lex2VlJaX09mlteQS3M0UYuIJHhBlQs4VgT6X4W%2BLvw88a/EDxT8LvC/iH7XrnguSzj8T2iWkwWxkuoPtEEZlZBG7tCVkKIzMiyRlgokTd8w%2BOPAnxF8K/wDBPbxp8CP%2BChnif4VeCPAWg/DSLQLb4meHfFt2GadI0trXUntLqzgTTZlmFvJDBHcXTGcoiOTtDdr/AMEr/h98WPDf7ImlfFX9oqwS3%2BJ3xYvpfHXxEhW3aL7Pf36xmG02N8yfZbGOys9pyQLXBoA%2BjaKKKACiiigAooooAKKKKACiiigAooooAKKKKACiiigAooooAKKKKACiiigAooooAKKKKACiiigAooooAKKKKACiiigAooooAKKKKACvF/j14/8A2i/%2BGi/AvwI%2BAvjPwV4fTX/BXiXXtX1Pxf4Lu9aJOnXeh28MMMdvqVj5Yb%2B1JWZmZ8%2BWgAXkn2ivCviLrSWX/BSr4Q6LIoxe/BP4hsjZ53R6t4NOPyZj%2BFJtLcuEJVHaPZv7tWX/APhB/wDgoX/0dB8Gf/DD6t/81FH/AAg//BQv/o6D4M/%2BGH1b/wCaivZqKZB4z/wg/wDwUL/6Og%2BDP/hh9W/%2Baij/AIQf/goX/wBHQfBn/wAMPq3/AM1FezUUAeM/8IP/AMFC/wDo6D4M/wDhh9W/%2Baij/hB/%2BChf/R0HwZ/8MPq3/wA1FezUUAeM/wDCD/8ABQv/AKOg%2BDP/AIYfVv8A5qKP%2BEH/AOChf/R0HwZ/8MPq3/zUV7NRQB4z/wAIP/wUL/6Og%2BDP/hh9W/8Amoo/4Qf/AIKF/wDR0HwZ/wDDD6t/81FezUUAeM/8IP8A8FC/%2BjoPgz/4YfVv/moo/wCEH/4KF/8AR0HwZ/8ADD6t/wDNRXs1FAHjP/CD/wDBQv8A6Og%2BDP8A4YfVv/moo/4Qf/goX/0dB8Gf/DD6t/8ANRXs1FAHjP8Awg//AAUL/wCjoPgz/wCGH1b/AOaij/hB/wDgoX/0dB8Gf/DD6t/81Feo%2BMxv0MQMTsmvrSKUA43I9zGrL9CpIPsa8x1/9qD/AIJ%2B%2BFNdvfC3in9oj4Oabqem3clrqOnah4u0qGe1njYpJFJG8oZHVgVZWAIIIIyKyq16FBJ1JqN%2B7S/No7sDleZ5pOUMFh6lVxV2qcJ1GltdqEJtK%2Bl2kr6XvoM/4Qf/AIKF/wDR0HwZ/wDDD6t/81FH/CD/APBQv/o6D4M/%2BGH1b/5qKr/8Nf8A/BOD/o6L4I/%2BFto//wAdq3oH7UH/AAT98V67ZeFvC37RHwc1LU9Su47XTtO0/wAW6VNPdTyMEjijjSUs7sxCqqgkkgAZNZLHYFuyqw/8Dj/8kehPhXimnBznl%2BISSbbdCukktW23QSSSTbbaSSbbSTYz/hB/%2BChf/R0HwZ/8MPq3/wA1FH/CD/8ABQv/AKOg%2BDP/AIYfVv8A5qK0f2q/iX8Kv2UP2b/Gv7SXin4XLq2n%2BCvD1xqt1pukaIJri5WJc7EWONiMnGXI2ouXcqqsw5/Sf2s/2P8AXPG8vw10vw1r8viG28OLr2oaL/wprXVutPsHju3iluo208NatL9huVijmCSTPGI41d3RW6jwS/8A8IP/AMFC/wDo6D4M/wDhh9W/%2Baij/hB/%2BChf/R0HwZ/8MPq3/wA1FUtM/ac/Zg8TSeHf%2BEV0ywQ6z46m8K3th4l8Jajo%2Bo2N9Ho11q5hayubATJKbW3WZVuFt43hk8xZWYxRzN%2BCn7X/AOwv%2B0Fo03iP4beJtL/s6Lw/p%2Bupf%2BIvCN3osFzpd8zLa3sEmo20C3NvI6lBLEXUPhCQxAoAv/8ACD/8FC/%2BjoPgz/4YfVv/AJqKP%2BEH/wCChf8A0dB8Gf8Aww%2Brf/NRUH7aHxKuv2Xvghd/GnwL%2Bzv4Z8XxaRdwtrtlqOsrpX2exZtrzxOtnc%2BdKGKBYiqBtxzIgGa774kXXwb%2BEvgHWPib490XSbHRtC06W91K6Olo5SKNSx2qqlnY4wqKCzMQqgkgUAcR/wAIP/wUL/6Og%2BDP/hh9W/8Amoo/4Qf/AIKF/wDR0HwZ/wDDD6t/81FeX6H%2B1z438T/sXar%2B19afsgeAdA/4RTUfFsXjnw7428evZ/2NbaFqF7aTSC4tNIu1mkYWTu0exVQnaskoG49LZ/Hjx1YeOfgN4Z%2BIH7HXhnQ7P4xacIdbmbxQst54Y1oaJfatJp4tv7PVbyONbF4WuDLAd0ikREAgAHV/8IP/AMFC/wDo6D4M/wDhh9W/%2Baij/hB/%2BChf/R0HwZ/8MPq3/wA1FcR8SP2jPGfwe/aPtfhL49/ZR8C3Hhi68KeJfFB17w14wmvdVttG0iOEmeXTZNIhjWSaa6tYViW7f5pHKs4jbPJaJ/wUA0Q%2BGb2y8X/sx%2BDoPGt5oPg7V/BXhjQfGMWo22rW3ibUX03TftF39giNoyXCE3BSKdEiIkie45QAHsn/AAg//BQv/o6D4M/%2BGH1b/wCaij/hB/8AgoX/ANHQfBn/AMMPq3/zUV5D8ZP%2BCgPhL4Jfsl%2BOPjV4k/Zb0i8%2BIfgXVtZ0m/8AhppmsxvDdXmmWbajcPFqD2in7INNUXnnvbqwVlj8rzWWNu0%2BOn7Smi/Az43eAvhpqvwf%2BHF9YeP9Y07TdIsYPGar4pne5mWKW5t9FOnlbm0td4muJhdKY4I5pCn7sKwB1X/CD/8ABQv/AKOg%2BDP/AIYfVv8A5qKP%2BEH/AOChf/R0HwZ/8MPq3/zUV538Uv2upv2dfEXiuw/aG/ZS8N2Nho3ws8UePtDm8IeJE1a6vNN0N7UTx3cEtjbLZTSreQGPbJPESJVaRdgL6fw/%2BPPxB%2BI154w%2BFWg/st/DGT4neDJdHuNU8PxfEVpdGGm6lBLNbXR1JNIMyufs86mH7GTlUYMUcPQB2P8Awg//AAUL/wCjoPgz/wCGH1b/AOaij/hB/wDgoX/0dB8Gf/DD6t/81FeK6p/wUM0eb4d6P4u8Hfsp%2BF7q/wD%2BEN8W%2BJ/FlnrPi6CxtbOw8O6kNOvzYXQspBqLSTEvbsyW8TwlJJJYPMRTty/t5fC%2B4%2BJiW%2BifBHwxN8PY/G3hbwjdeLbzW47fU5NV8QWVjd6abXTDaEXFqw1OyR5jcRurG42xOLdyQD0//hB/%2BChf/R0HwZ/8MPq3/wA1FH/CD/8ABQv/AKOg%2BDP/AIYfVv8A5qK8z%2BD/AO2jY/F7xTY%2BGdO/Zm8IWsvjbwx4l1n4TW7%2BLY3udZGjXsNnPBqMX2EDS5He4hYeW12EUSiTZJGI36TwD8Yvil8Q7Lx74O0n9lX4ZQePfh14ntNL17TLn4gzf2E8Nxp8F%2BssWpporTGVYriMPBJZxlc7txVkZgDqP%2BEH/wCChf8A0dB8Gf8Aww%2Brf/NRVDwP44/as8HftWeHPgj8bviP8PfE2jeJvh74h1yGbwr8PL7Rbq0utNvtEt0VnuNXvkljdNUlJUIjBokIbGQZP2Y/idH%2B0h%2Bx3oP7S%2Br/AAa0fwdf%2BJvD8%2Br6ZYaTqH25I7UtK1ldRXTW1s7LNbiC4GYkKibaQduTb8cf8pC/hf8A9kZ8ef8Ap28IUAezUUUUAFFFFABRRRQAV84/CbxV%2B3f8ddH17x34X%2BN/wk0DS7f4heKtD0vSr/4P6pf3EVrpevX%2BmQtLcJ4igWWR47NXZlijXc5AUACvo6vBP2Qh5n7Out27E7Jvjp48ilAONyP4%2B1ZWX6FSQfY0Aav/AAg//BQv/o6D4M/%2BGH1b/wCaij/hB/8AgoX/ANHQfBn/AMMPq3/zUU/X/wBqD/gn74U1298LeKf2iPg5pup6bdyWuo6dqHi7SoZ7WeNikkUkbyhkdWBVlYAgggjIqp/w1/8A8E4P%2Bjovgj/4W2j/APx2uV47Ap2dWH/gcf8A5I96HCvFNSCnDL8Q00mmqFdpp6ppqg0000002mmmm00yx/wg/wDwUL/6Og%2BDP/hh9W/%2Baij/AIQf/goX/wBHQfBn/wAMPq3/AM1FP0D9qD/gn74r12y8LeFv2iPg5qWp6ldx2unadp/i3Spp7qeRgkcUcaSlndmIVVUEkkADJq9%2B1X8S/hV%2Byh%2Bzf41/aS8U/C5dW0/wV4euNVutN0jRBNcXKxLnYixxsRk4y5G1Fy7lVVmGtKvQrpunNSt2af5Nnn47K8zyucYY3D1KTkrpVITptra6U4QbV9LpNX0vfQzv%2BEH/AOChf/R0HwZ/8MPq3/zUUf8ACD/8FC/%2BjoPgz/4YfVv/AJqKoaT%2B1n%2Bx/rnjeX4a6X4a1%2BXxDbeHF17UNF/4U1rq3Wn2Dx3bxS3UbaeGtWl%2Bw3KxRzBJJnjEcau7orO0z9pz9mDxNJ4d/wCEV0ywQ6z46m8K3th4l8Jajo%2Bo2N9Ho11q5hayubATJKbW3WZVuFt43hk8xZWYxRzanCXf%2BEH/AOChf/R0HwZ/8MPq3/zUUf8ACD/8FC/%2BjoPgz/4YfVv/AJqKofBT9r/9hf8AaC0abxH8NvE2l/2dF4f0/XUv/EXhG70WC50u%2BZltb2CTUbaBbm3kdSgliLqHwhIYgVd/aN%2BIjfCvX/B/w0%2BEHwA8NeLvGfja9vE0rS9a1VdIsYLWztWuLm5nuks7p0A/cxKqwuWkuI87EDuoA7/hB/8AgoX/ANHQfBn/AMMPq3/zUUf8IP8A8FC/%2BjoPgz/4YfVv/morntf/AGpPhbB%2Bxb4a/a/8J/BSyvB4vHh230bw7qhgs/Iv9Yv7TT4ILu5Eci28cVzeIs0qrJtWOQosh2q3FWv7bi%2BIr6y%2BFngn9mbwFefEpPF3iDQPEWjX3jlbbQtOn0e1t7u52aoNNeSdmgvLR0jNpG3zTeZ5Qgc0Aerf8IP/AMFC/wDo6D4M/wDhh9W/%2Baij/hB/%2BChf/R0HwZ/8MPq3/wA1FeORf8FFvht4s8M6N8XfhN%2BzbpOt/D5fA3hTxZ438Q32qxWl3othr8zx2629qlrKl7LbxxvPcq00ASPb5TTu3lj1r4b/ABPm8TftT/ET9nLx9%2Bz34X0G08H%2BGNF8QaF4gs9aS9bVrDULrVbZWnt2s4hZOjaVI20SzgrKpLKQRQBZ/wCEH/4KF/8AR0HwZ/8ADD6t/wDNRR/wg/8AwUL/AOjoPgz/AOGH1b/5qKw/2QP2kvAP7XPiD4gwaN8CrDRtF8J67aW3hvWLhopW8Radc2UV1b6kIhCv2eOZJN8SlpC0LRSMUZzGntvgwbNDMCk7Ib67iiBOdqJcyKq/QKAB7CgDy7/hB/8AgoX/ANHQfBn/AMMPq3/zUUf8IP8A8FC/%2BjoPgz/4YfVv/mor2aigDxn/AIQf/goX/wBHQfBn/wAMPq3/AM1FH/CD/wDBQv8A6Og%2BDP8A4YfVv/mor2aigDxn/hB/%2BChf/R0HwZ/8MPq3/wA1FH/CD/8ABQv/AKOg%2BDP/AIYfVv8A5qK9mooA8Z/4Qf8A4KF/9HQfBn/ww%2Brf/NRR/wAIP/wUL/6Og%2BDP/hh9W/8Amor2aigDxn/hB/8AgoX/ANHQfBn/AMMPq3/zUUf8IP8A8FC/%2BjoPgz/4YfVv/mor2aigDxn/AIQf/goX/wBHQfBn/wAMPq3/AM1FH/CD/wDBQv8A6Og%2BDP8A4YfVv/mor2aigDxn/hB/%2BChf/R0HwZ/8MPq3/wA1FH/CD/8ABQv/AKOg%2BDP/AIYfVv8A5qK9mooA8Z/4Qf8A4KF/9HQfBn/ww%2Brf/NRR/wAIP/wUL/6Og%2BDP/hh9W/8Amor2aigDxn/hB/8AgoX/ANHQfBn/AMMPq3/zUUf8IP8A8FC/%2BjoPgz/4YfVv/mor2SaaK3iaeeVURFJd3bAUDuSelcD4q/az/ZX8DSvB41/aW8AaRJGcSR6n4xsYGU%2BhDyg1nUrUaKvUkorzaX5tHZg8uzDMZ8mEozqvtCE5v7oQm/wOZ/4Qf/goX/0dB8Gf/DD6t/8ANRR/wg//AAUL/wCjoPgz/wCGH1b/AOaisTxJ/wAFVf8AgnV4U3f2p%2B174Nl29f7N1A3v5fZ1fP4Vx9x/wW2/4J2TzNa%2BEvixrXiOdTgw6D4G1WY59AWtlB/A1wzznKKbtLEQv/ij%2BjZ9VhvDTxFxkOejk%2BKa7%2BwqpffKEEvm0el/8IP/AMFC/wDo6D4M/wDhh9W/%2Baij/hB/%2BChf/R0HwZ/8MPq3/wA1FeYn/grv8O9W4%2BH37HH7RPikn7j6H8KZWQ%2B%2BZJUwPfFB/wCChn7V/iY4%2BGH/AASk%2BKt2W/1f/CVarY6ID9fNL7az/tzLH8M3L/DGcvyh%2Bp1f8Qu45h/HwsaP/X2vhaX38%2BKTXzij07/hB/8AgoX/ANHQfBn/AMMPq3/zUVb/AGVviN8afGGsfFDwJ8dNf8L6tqngH4hRaHZ6r4T8NXOk291ay6Do%2Bpqz29xe3jLIsmoyoWEu0rGh2qc58mH7SH/BW7Wxv0z/AIJt%2BE9FDfdXWfjDaXBT6%2BRGM/hXQ/8ABOzV/jLruufHnVf2gfCOj6D4vm%2BM0H9raToN%2B11aW%2BPCPhsRBJWAL5hEbN6MzDtXRhsfSxU%2BWEJrS95QlFffJLXyPHzvhLH5DhVXxGIw87vl5aWJo1prRu7jSlK0dLOV7XaXU%2Bk6KKK7j5cKKKKACiiigAooooAKKKKACiiigAooooAKKKKACiiigAooooA5z4u%2BI/iB4R%2BG%2BreJfhZ4J03xHr9nbiTT9G1fXm0y2uTuXd5l0lvcNEqpubIhkJ24C815hdftqWdh%2BwF4e/blvPh6y/8ACR%2BCNC1y28MDV1Cw3GqpaiG3ku2jUJEkt0iyXBjAWNXk2cba9T%2BKOiePPEvw%2B1XQPhl4p0jRNdvLUxWGq69oUup2luSQGaS2iubV5Rs3AATR4JByQCp8o%2BBP7MPxw%2BEn7Iei/sq%2BKvjB4A8UR%2BHfh5B4W07ULv4WXCWlylvAltDJeWUmrSi4jMCBZYVkj8xmYq8YOwAHTfsz/tEX/wAcZvG/g/xh4X0rQ/F3w58Wjw/4t0rQvETarZRXD2FnqETwXT29s8itb30G7fBGySLIm0hQ7eW/tC61/Zf/AAVo/Zmsd%2BP7S%2BGPxMtseuJPDE2P/IX6V6F%2Bxv8AskeHv2SfB/iDSdNfw82peK/EZ1nWx4Q8Jx6FpEMotbezigstPSWUWsCQWsI2GWRmkMsjMWkOPnH9qT4ffC34W/8ABbT9kvxx4K%2BG3h/RdW8aaL8Sk8VaxpWjQW91q8q6fpRha6ljQPcMrMwUyFiu9sdTXLjJ%2Bzoc3nH8ZRX6nu8OYb63mnsu9Os//AaFaX/tp93UUUV1HhBRRRQAUUUUAFFFFABRRRQAUUUUAFFFFAGX4w/5BMP/AGFbH/0rirhdf/Ym/Yy8V67e%2BKfFP7I/wx1LU9Su5LrUdR1DwDp0091PIxeSWSR4SzuzEszMSSSSTk13XjD/AJBMP/YVsf8A0rir528f/wDBZT/gm58L/Het/DTx1%2B0d9h1vw7q9zpmsWX/CIaxL9nureVopY98doyPtdGG5WKnGQSOa4cdWy2jCLxkoJN6c/La/lzJ627FR4kqcN/vYY14bn0uqsqXNbW141Kd7b2bdt7dT0T/hgf8AYV/6Ms%2BEv/hudM/%2BMVb0D9ib9jLwprtl4p8Lfsj/AAx03U9Nu47rTtR0/wAA6dDPazxsHjljkSEMjqwDKykEEAg5FeM/8Pzf%2BCWX/R0X/lk65/8AIVa/gH/gsp/wTc%2BKHjvRfhp4F/aO%2B3a34i1e20zR7L/hENYi%2B0XVxKsUUe%2BS0VE3O6jczBRnJIHNefDG8MOaUZ0b3VrezvfpbTe9rFf8RNxNf9088nLm0t9bqu99LW%2BsO972tZ3vazvZ%2By/tNfBOy/aT/Z08d/s96hr8ukw%2BN/COoaG%2BqwQCV7P7VbvCJghIDlC4baSA23GRnNeX%2BIv2JviF4/0H4uy%2BPfj7axeJPi38O9N8M32teE/Cs2mw6bJZjUQtzFFJfTyMji/AaIzA4ibEg8wbPXPjr8YfDn7Pvwe8R/G/xlpmo3WjeFdKl1PWU0qFJJ4rOIbp5grugZY4w8rDOdsbbQzYU%2BX/ABn/AOCiHwd%2BC2l%2BLtc1Tw3qeoWPgrxbZ%2BG9Y1EeINB0q0e/uNNi1EJDcavqVnDJsgngDAPv3zBUV9khT3jM86%2BCP/BKaL4ReIofE0PxJ8IWG34uDxy%2Bg%2BAvhfHoGkQMPCN54cNnbWqXkphDfahdtKzyMzoykfOHT0L4G/sUeIfgFH4Eu/CPxcsrm/8AA3wN0r4dW8uoeF3aG7%2BxyQMb5o0u1Zd6wsBCHOwuD5jbdrcpa/8ABR3SfFPj6O/8E3FpceAtc8GfCTXfCOqxaFJPeXX/AAmHiDVtNKzI93CscYis7MqwBeBpJnZLnCwVY8G/8FGj8TP2ivB/gjwh8H/E1l4B8R%2BCvFmv2nizVNCWdvEMOk3GnQxz6XHZXM05jf7VK3lT26TzBoGhQgnIB6R%2B238APiZ%2B1D%2Bz1q3wN%2BGPxU0LwdPrskcWp6xr3hCbWk%2ByKS7RxQxX9mUlMixESNI6hVdfLJcMl/x9%2Bz7P8fPhxD8Lv2ltfstc0x7bS7q//wCEQTVPDk7azZ3S3S3tvcW2pNPbRCaK3eOFZGeNoiWmlDALD%2B2B8Qfi/wDDj9lrxj8W/gJqHh208QeHPDN3rVq3jLQ7q8tGitrd53je3huLaXeyptH7xNpOSDjad%2B3%2BMPh/w58AYPjx8UdVtdK0228Jx63rt2qN5VtH9mE0pVfmYgc4UbmPAGSaAPFPCP8AwTR8PeCv2YNZ/ZW0v4w69d6H4m%2BLd14u8SXGv3%2BoatNe6dceITq0ujB769mdElhC2c0wY%2BdvuJ2j864dq7L9o/8AZ3%2BPHxf%2BNvwu%2BJ/w2%2BN/hHw3pfw28Qzay2ja58PLrVbjUribT77TpVFzFqtqsMf2a/k2jyXKyorlmXMZ8KP/AAUN/asg%2BEXinxL4v%2BHGgeGtesfj5Z%2BDbW0g8Jalr1zoekXehWOrQmfSrG5F1q2ox/bFt5YrJ1AO%2BZVMUDlsz/h6p4/1jwd4AtL3xb4M8Farq/gjVfFPjDxPqXw71rX7C0sLTVH0%2BKRrCxuo5tLRvKlmupL24C6ayC3n3yMzIAfV3h34CS6R%2B0f4y/aP1Txct9f%2BIvC%2BleH9DsX07amiWNm91O6hvMPnPNc3byOwEeVigQg%2BUGPhfhz/AIJZWGl6P4r8QSeL/AuheN9cvvDt7ouq/Dn4VJoOjaVc6Lqh1W1mfTRezPdSTXZP2p2uVaaFUjUw7d51bv8AbM%2BMw%2BPVxe2Fl4Tk%2BFtn8ZLL4bS2g0%2B4bWp7q502CddUS7Fz5AhF5cxW32U25Yxq8/ngkQ1zXi39r79sH4O%2BNfi54e8W%2BIPhr41tPAPhjw5baZd6H4G1DRFHinXNQNrZ2Vw0urXu%2BGGJrS4m2hH2XsW09aAL3xR/4JIfD346fBDxp4Z%2BL3xS1qf4k%2BNdN8UxXnxC8Lapq%2BhWtvPrcEEEq/2ZZ6kqXNnHHZaen2S6mmEi2Sh3O9ifQ/iJ%2ByV8T/H58J/Dlvjpp9v8NfCmu%2BHNWt9IufDV7feI5p9Hura7hVtbutTkLLLPax%2Ba72zzvG8qedl9480%2BLf7XX7YPw6/Zz%2BNGt2OqfDW48dfAvxPHHrmpz%2BENQGleINKfR7TU0NvZjUvOs7g/bUgJe5nVTbvJtYSKi9d%2B0n%2B1P8Xfg/8AtW6D8PLjxPong/4bz%2BH9Pu9S8X6/8J9b1q2nv59SltmsX1Szu4LPSCY1i2yXYZd8ynDD5SAX/gv%2Byb%2B0J8O/ir8SPip8Qv2gfBHi%2B%2B8frcxxXtz8LbqG9062UuNN07zG1iSF7C1SSQG3SGIzySyzNIskrs3EWv8AwTK8e%2BFfg1468H/B343%2BCPh74r%2BIt7pkHiHWfAXwlfSdJg0OzMpOmWen22qJNatN9ouzJdi8acNeTNG0ZERit%2BGP%2BChh8S/tR%2BK/BOoeP/D2h%2BEPCXijVPDseh3fw/1afUNevbDTWu7gQ60J49OtrgMsrrp5jmne2tmmyolHlcW3/BRH9qjwb8K4vFXxL8P%2BAf7Q8XfDzwx408NXum6PfLY%2BE9O1PWLWwvzqoN273sWmwX0N29zE1qsyRTgpbKnmUAen/Gb9gzxV8a/2evB/7P8Ar%2BvfB%2B0tfD2nXOnz3lt8DfOXTbdlWG2k0GG51SVdGuYLcFFlc3alwriNVXyzZ8ff8E9PCXxB%2BMfgjxXqEHgK18KeAZdEl0Sztvhup8S/8SmSO4sbU67Jdsy2SXUME5gS2V2MIUy7WYNwVl%2B3j8WPG37H/wATf2g/APxr%2BGZk%2BDGuazZeJfEtt8Pb/VNK8VRWlhb39vJplvHrELwmaK6gRf8ASLpZJD%2B7ZlZGO18Uf20P2j/hjL8HPhldeE/CN5411DUvB8Px2uYbW5GnaL/a93DYm1sU%2B0F1uJbhrmWHzJJRHDZMZAxmhLAG1YfsEeKNL%2BNvjH9pPQPHfw68P%2BOdR8Pa3p3gvW/CvwfSy%2Bw3OoPE41LVwb%2BR9cuovs8Cqxe2QqbgbB52Uf8AD39h74s%2BFP2K/GP7JGtftBaEdQ8WaZe2kvj3w74GurLUHmvkZb/Ubr7Tqt011fzGSWTzxJGqOy4jKoqV0fgX4t/tEaj%2B118V/wBnzxPqHgufTdD8A6D4k8BTWGh3cE9udRvNctfI1CR7uRbnadLifdDHBgSuuGwGp37Lnxn%2BNXjP4u/Er4LfF3XfCPiZvAJ0hP8AhMPBHh%2B60uye9u4p5bjSpLe4vLwi5to0tJnZZiDHqMAKIytkA9O1Xw7ofhD4UXPhLwxpkNjpul%2BHntNPsrddsdvBHAUjjUdlVVAA9BXnXjj/AJSF/C//ALIz48/9O3hCvUvHP/Ik6x/2Crj/ANFtXlvjj/lIX8L/APsjPjz/ANO3hCgD2aiiigArN8YeMvCHw88L3/jjx/4r03Q9F0u2a41PWNYvo7a1s4VGWkllkISNAOrMQBWlXiH7f3hvxFrvwT0bVtE8Kalr9p4b%2BJfhXX/EGh6Pp0l5dXmm2OtWlzcGK2iVpLl4Vj%2B0iFFaST7PtRXcqpAPTNM%2BMPwj1r4ZD416P8UvDl34NOnvfjxbba5byaYbRAS9x9qVzF5ShWy%2B7aNpyeKxL/8Aat/Zc0r4U2vx31P9pLwDbeB725%2Bz2fjKfxjZJpU825l8tLsy%2BS77kddoYnKMOxr5s8NfD20%2BJP7J/wAW/D3i/QvHXhHTvE/xLv8Ax54Ttv8AhWWqXV3Z2sWswXdrK%2Bmi38yZri9s3vJNOwty8N2Q8cbSHHkY%2BGn7RU1xH8fPiNq3xL0iy8RftF6l4n0/x58O/g/dR65oNl/whdtoyyxeGrq21Ke1gu7q3ukIure4kRJEmcRSXHmxAH6SaLrWj%2BI9HtPEPh7Vra/0%2B/to7ixvrKdZYbiF1DJJG6kq6MpBDAkEEEV4d%2Bx//wAm9av/ANl78c/%2BrA1Wpv2LvAnxa8Gf8E/Ph38O7DRNN8D%2BLNM8C2VnbWmu6NPeQ6fIkYVDc2gu45S5QBnh%2B0Bkd2XedvOV%2Bwzb%2BJbT9li4tfGWrWN/q8fxv8aLqd9pmnPaW1xOPH2q%2BZJFA80zQoWyQjSyFQQC7YyQDu9f/Ym/Yy8V67e%2BKfFP7I/wx1LU9Su5LrUdR1DwDp0091PIxeSWSR4SzuzEszMSSSSTk1U/4YH/AGFf%2BjLPhL/4bnTP/jFed%2BP/APgsp/wTc%2BF/jvW/hp46/aO%2Bw634d1e50zWLL/hENYl%2Bz3VvK0Use%2BO0ZH2ujDcrFTjIJHNZH/D83/gll/0dF/5ZOuf/ACFXgzxvDCm1KdG93e/s736303ve5p/xE3E0P3SzyceXS31uqrW0tb6wrWta1la1rK1l7NoH7E37GXhTXbLxT4W/ZH%2BGOm6npt3HdadqOn%2BAdOhntZ42DxyxyJCGR1YBlZSCCAQcitb9pr4J2X7Sf7Onjv8AZ71DX5dJh8b%2BEdQ0N9VggEr2f2q3eETBCQHKFw20kBtuMjOa8a8A/wDBZT/gm58UPHei/DTwL%2B0d9u1vxFq9tpmj2X/CIaxF9ouriVYoo98loqJud1G5mCjOSQOa9x%2BOvxh8Ofs%2B/B7xH8b/ABlpmo3WjeFdKl1PWU0qFJJ4rOIbp5grugZY4w8rDOdsbbQzYU%2Bhga2W1oSeDlBpPXk5bX8%2BVLW3cmXElTiT97PGvE8ml3VlV5b62vKpUtfeyavvbqeR%2BIv2JviF4/0H4uy%2BPfj7axeJPi38O9N8M32teE/Cs2mw6bJZjUQtzFFJfTyMji/AaIzA4ibEg8wbOG%2BCP/BKaL4ReIofE0PxJ8IWG34uDxy%2Bg%2BAvhfHoGkQMPCN54cNnbWqXkphDfahdtKzyMzoykfOHT0X4z/8ABRD4O/BbS/F2uap4b1PULHwV4ts/DesaiPEGg6VaPf3GmxaiEhuNX1Kzhk2QTwBgH375gqK%2ByQpyNr/wUd0nxT4%2Bjv8AwTcWlx4C1zwZ8JNd8I6rFoUk95df8Jh4g1bTSsyPdwrHGIrOzKsAXgaSZ2S5wsFdxJ1fwN/Yo8Q/AKPwJd%2BEfi5ZXN/4G%2BBulfDq3l1Dwu7Q3f2OSBjfNGl2rLvWFgIQ52FwfMbbtbrP2jfgF44%2BKniDwf8AEz4P/E/TvCPjPwTe3j6VqmteGn1exntby1a3ubae1S6tXcH9zKrLMhWS3jzvQujeYeDf%2BCjR%2BJn7RXg/wR4Q%2BD/iay8A%2BI/BXizX7TxZqmhLO3iGHSbjToY59Ljsrmacxv8AapW8qe3SeYNA0KEE59J/ak%2BNHxA%2BHujeBfC3wcTSIfFHxJ8b2/h3QtQ8T6XPcWWm5srzUJ7me1jmt5ZttrYXAWISxEyMgLKM0AU/Dv7LGseAv2XbX9lbwZ4p8L6hoemeB7DQrH/hO/BLaxHeTx7hd3OoQLeQR3cdwm3MCCHY5kbe6uqJ53Z/8E14vDf7PL/Bfwje/CR7zVvGU3iTxHP4m%2BB8Oo6Ml28CW8R0zSRfxR6cbeCG2igLyXG1IPnErOznodK/a6%2BKb/sE%2BNf2j3%2BHdlrHjjwL/wAJXpl9omjw3As9Q1PQ9SvtNlmhjBknW3lksjOIgZJVjfZl3GTyfwR/bM%2BI/wAevB/xM0fwV%2B018ILq/wDhhqFld6h8UtL8DXt94Z1HR59PN0zR2yayrJLDIk8byLezRjyDlQ7NHEATX/8AwS90/RtK034Z/Cn4xnRPh/c%2BC/Cvhfxx4e1Lw99uvdasNBnkkt2gvBcRLaTXEcrwXLvDOJI9pjWFwZD1er/sc/E3xx%2B0z8RPif8AFL4u%2BFNX%2BHvxJ%2BHNt4I1rwJZeB7%2Bx1AaVbtqrxhdWj1g7ZmbV7kPIlshKJGIxEwMh8dH7df7Yeg/DX4IePvjNqPhDwJpXjf4a6l4q%2BIXjCf4JeIdX0vRJBdac1haXH2TUwmig2V5O8095PJEslpIQyqCK9s%2BLHxo/aA%2BFn7T3gDwcniLwPrXhb4h%2BKJNL03wfZeHbyPXrSyh0yW5udVa%2B%2B2tBJDDNGiuhtEULcwr53mOiyAFn9lj9hfwF%2Byb8UfiF8QvA3jnxZqVv45m00w6X4k8Zaxq/wDZsVpZx2wQSajfXBlZihYPhGVCsQJRFx654P8A%2BQTN/wBhW%2B/9K5a1Ky/B/wDyCZv%2Bwrff%2BlctAGpRRRQAUUUUAFFFc/8AEP4tfCv4R6T/AG98VviVoHhmxwT9r1/WIbOM464aVlBqZzhTi5SaSXV6L8bG2Hw%2BIxdaNGhBznLRRinKTfZKKk38kzoKK%2BWPFH/BY79iaz1iTwt8K9e8T/E7WYvvaR8NPCN1qch9Nr7UibPbDms8fttf8FAfifz8Bv8Agl/r1hZyfc1f4oeMLTRmj9N1nhpT%2BDcV5jzvLL2pz532gpT/APSU1/5MfcU/DDjdU1UxmFWFg9ebE1KWGVu6VepCb%2BVJ36XPreivkkeEv%2BC03xG/ea38W/gd8OLd/uR%2BHdBvtXuoh/tm6IiLf7vFI/8AwT0/a1%2BIX7n9oD/gqn8S9RtpP9fa%2BANFsvDGR/dD24kO3t05pf2liZ/wsLUf%2BLkgv/JpN/gX/qXkeF/3/PsJDuqX1jEy%2BXsqEIN/9xF69T6j8V%2BOfBXgOw/tXxx4w0vRrUZzc6rqEdvHx1%2BaRgK8S%2BI3/BVX/gnf8LQ48Tfta%2BErh04aLQLxtVfPptsllOfaue8Jf8Eb/wDgn/oOof2/4s%2BEV5411hsefrPjnxFealPNj%2B%2BsknlH/vjvXtvw6/Zu/Z5%2BEJRvhT8CfB/hto/uyaF4atbV/rujQEn3JzRzZ5V2jTp%2BrnN/goL8Q9l4V4H4quNxbX8sMPhoP5zliKiXny37o%2Bfh/wAFcPBXjH5P2f8A9kD46fEJX/1Go6L8PpILBvQtPcOmwH1K0f8ADU//AAVL%2BIJ2fDT/AIJsaV4Yt3/1Op/ED4m2pz/vWtsvmrj0zX1tRR9RzCp/FxUv%2B3Iwj%2BLU2L/WrhDCf7jkNJ%2BeIr4mu/nGMsPT%2BVmj5J/4Vz/wWg%2BIfPib9o74LfDuOToPBvhG71aWIe/28hWb9KX/AIdz/tNeM%2BfjT/wVV%2BMF%2BX/13/CEQWfhwH12iBZNtfWtFH9jYSX8WU5/4qk/yTgvwD/iJWf0P9xoYXDf9esHhk1/29Up4if/AJMfJkX/AARe/Y11uVbj4w6h8RPiNIpDGTxx8RL%2B4LN6kQvED%2BWK7/wr/wAEyP8Agnz4NhSHR/2PPAMojHynVPD0V834tciQn8TXulFaU8nymk7xoQv3cU398uZ/iceM8SPEHHw9nWzbEcv8qrThFekaTpRXyijjPDf7OP7PPg3afCHwG8GaVs%2B7/Zvhe0gx9NkYrsLe3t7SFbe1gSKNBhY41CgD2Ap9Fd8KVKkrQil6JL8kj5XE47G42fNias6j7ylKT%2B%2BUpP8AEKKKKs5Qrxn9l/8A5Lf%2B0d/2Wax/9QrwvXs1eM/sv/8AJb/2jv8Ass1j/wCoV4XoA9mooooAKKKKACiiigAooooAKKKKACiiigAooooAKKKKACiiigAooooAKKKKACvgz/gpbqn9hf8ABVf9iDVd2N2qeMbXP/XcaHFj/wAer7zr86/%2BCxt7Lo//AAUH/Yl19OEs/Hmo/aG/uxPqnhuNj/4/XmZxLky2cu3K/wDyemfceG9BYnjTC0X9tV4/fhcX/kj9FKKKK9M%2BHCiiigAooooAKKKKACiiigAooooAKKKKAMrxh/yCYf8AsKWP/pXFWrUN/YWmp2j2N9AJIpBhlJI75ByOQQcEEcgiqH/CH6T/AM/eqf8Ag8u//jtAGrRWX/wh%2Bk/8/eq/%2BDy7/wDjtH/CH6T/AM/eq/8Ag8u//jtAFnXtC0fxRod74Z8RabFeafqNpJa31ncJujnhkUo8bDurKSCPQ186%2BCf%2BCYPwo%2BGnwj8B/DD4efGr4j6VqHw%2B1vU9U0vxyup6fc63eS36TRXQupLmykgk3RTeUrrCksaQxCN02kn6B/4Q/Sf%2BfvVf/B5d/wDx2j/hD9J/5%2B9V/wDB5d//AB2gDwbwN/wTE%2BAfw/8ADXh7wroni3xhJbeGvDXw80Owa71K2eR7bwbqt3qmltI32cbpJZ7yVbhuA6KgjELAu1r4bf8ABO7wL8KfiJpfxA8JfHX4iKvhfw3ruheA9CuLzTZLDwtZ6rNbTTJaIbHfKYntIPJN09xsVNh3J8te3/8ACH6T/wA/eq/%2BDy7/APjtH/CH6T/z96r/AODy7/8AjtAHN/tAfBNv2gPgdrvwNvPil4k8M2/iPSn03U9e8Nx6eb9raRDHOi/bLS4gXzIyyMfJyA5KFGAYZ3hj9mnQbP4SaV8D/ij431T4j%2BGrHw9caPqumePNG0e5h16F5Ymha9igsIYnaCOIwxrGkcbJI5mSaQJIna/8IfpP/P3qv/g8u/8A47R/wh%2Bk/wDP3qv/AIPLv/47QB8/aH/wSn/ZT%2BHb6tqfwA0af4X6vqHxGt/Guna18PdI0mxl0bUIdHbR1itomsnt2tjaTXoMM8Uyh9RunXazgrNrf/BMr4Q6j4Es/A%2Bh/Ffx9obtouu6T4q1vSdQsPt3iqz1q%2BfUNUjvnms5FUz3cs8/mWq28kTTyiF4lYrXvf8Awh%2Bk/wDP3qv/AIPLv/47R/wh%2Bk/8/eq/%2BDy7/wDjtAHktp%2BwX8J9O%2BNNv8WdL8XeJ7XS7fxHbeIx8PYbq1GhPrdvpq6ZDqJQ25ufMS1jiAiFwLcyRJMYTKPMrUvv2MfhLq3w2%2BJXw01q/wBbvIvip4lute8S6tLeot9HeyJBHbyW8scaiM2kdpZx25KsUW0i3FyCW9G/4Q/Sf%2BfvVf8AweXf/wAdo/4Q/Sf%2BfvVf/B5d/wDx2gDw3xr/AME7/Dnjr9n7xp8B9T/aT%2BJUNx8SNcbU/iB45t/7DOs68xs4rLyJBJpbWcEQtra1jUW9tCyi2QhstIX6D4pfse3vxq8Naf4D%2BJ37UfxI1Pw2ul21j4p8PCPQoLfxUsUxld714dLSaNpeEkWzkto2RQoRctu9S/4Q/Sf%2BfvVf/B5d/wDx2j/hD9J/5%2B9V/wDB5d//AB2gDyi7/YW%2BGF98aD8Wbzxl4mk0w%2BLH8VN8P2ms/wCw2117BrB9QK/ZvtTO0LsTCbg25kYy%2BV5nz1Q%2BEf7Avhj4JaNqFj4D%2BP8A8RU1A%2BFbDwx4V16%2BuNKubvwpollK8lvYWIksDC6AvtaS7juZ5VSMSSv5aFfZv%2BEP0n/n71X/AMHl3/8AHaP%2BEP0n/n71X/weXf8A8doA8uT9iD4Y3HwhX4P6/wCL/E2rQXnj2y8YeKdZ1C7tvt3ibU7a/gvlN8Y7dYjC8lrbxtDDHEghhSFAkY21D%2B0Z/wAE7v2Nv2p/FGm%2BPfjD%2Bz74R1DxJpuvaXqg8TyeFNOl1K5%2BwXCTRWs1zPbySPbN5YjePIzGzKCuc16v/wAIfpP/AD96r/4PLv8A%2BO0f8IfpP/P3qv8A4PLv/wCO0AeWQ/se6la/tJ%2BK/wBpmz/aq%2BJMOoeLfC0Hh%2B50CO30AadY2du19JZ/Z/8AiVfaQ9vNqN1MjSTybmcCXzUVUF39kH9k20/Y9%2BHr/DDQvjl408Y6SrCS0XxnDpBmgmaSWW4uGmsNPtZLme4llMs01y00juN%2B4Mzl/Rv%2BEP0n/n71X/weXf8A8do/4Q/Sf%2BfvVf8AweXf/wAdoATxz/yJOsf9gu4/9FtXl3jj/lIX8L/%2ByM%2BPP/Tt4Qr1E%2BDNDfCztfTJkExXGrXMiN7MrSFWHsQRXl3jj/lIX8L/APsjPjz/ANO3hCgD2aiiigAooooAKKKKACvBP2P/APk3rV/%2By9eOf/VgarXvdeJ/sPWFpqfwF1%2BxvoBJFJ8ZfiMGUkj/AJnbWiDkcgg4II5BFAHtlFZX/CH6T/z96p/4PLv/AOO0v/CH6T/z96r/AODy7/8AjtAGpVTXtC0fxRod74Z8RabFeafqNpJa31ncJujnhkUo8bDurKSCPQ1W/wCEP0n/AJ%2B9V/8AB5d//HaP%2BEP0n/n71X/weXf/AMdoA%2BfvBP8AwTB%2BFHw0%2BEfgP4YfDz41fEfStQ%2BH2t6nqml%2BOV1PT7nW7yW/SaK6F1Jc2UkEm6KbyldYUljSGIRum0k2PA3/AATE%2BAfw/wDDXh7wroni3xhJbeGvDXw80Owa71K2eR7bwbqt3qmltI32cbpJZ7yVbhuA6KgjELAu3vP/AAh%2Bk/8AP3qv/g8u/wD47R/wh%2Bk/8/eq/wDg8u//AI7QB4h8Nv8Agnd4F%2BFPxE0v4geEvjr8RFXwv4b13QvAehXF5pslh4Ws9VmtppktENjvlMT2kHkm6e42Kmw7k%2BWvSPjn8A9E%2BO/g3S/Dmr%2BNNd0TVNA1q11jw94s0B7VdR0zUIAyrcxCeCW3YtHJNE6SQvG8c0ilMHjp/wDhD9J/5%2B9V/wDB5d//AB2j/hD9J/5%2B9V/8Hl3/APHaAOL%2BG37Nth8IvhhD8K/h78VfFVhapp2rrcaiTYTXl1qmpXTXlxrUjy2jKb37TLcTABRbF7mTdA4EYTmbn9hXwBrvwV%2BIPwd8d/E/xl4jm%2BKrbfH/AIu1S5sY9U1a38iK2Nofs1pFbQW5tYvs/lwwRjZLKwxLI8p9a/4Q/Sf%2BfvVf/B5d/wDx2j/hD9J/5%2B9V/wDB5d//AB2gDgv2jf2YV/aR8Nz/AA/1j45eNfDXhTU9Gn0nxL4W8KnTIrbW7KZSksM0txYzXMAaJnj3Ws0DhXOGDBWXG0X9i6z8O/tUal%2B1Von7Q/j2C71TT7LTZPCbwaJNpVtptrHtTT7dpdNa8trdpN08ixXKl5X3FiFRV9W/4Q/Sf%2BfvVf8AweXf/wAdo/4Q/Sf%2BfvVf/B5d/wDx2gDUrK8H/wDIJm/7Cl9/6Vy02fwroVtC9xc6jqUccalpJH166CqoGSSTLwK%2BdviR/wAFSf2YvAHiP/hTnwB0rXvi/wCMIQVHhj4W6cdS8g55ae6B8mNQ2d7b2ZTkstc2KxuEwUVKvNRvtfd%2BSSu2/JJnuZHw1n/EteVLK8NOs4q8nFe7BfzTnJxp04/3p1ILzZ9QVFe3tnptpJf6jdxW8EKF5pppAiIo6kk8Ae5r4/1fx1/wVs%2BNlg%2Bqf2L8NP2cPDLj59S8S6guv61Cp6OEXbaLxyVkwQcD1ryrxt8F/wDgmTpch8Sf8FAv%2BCllz8YtStm82bSNc%2BIyiyhcc5h0vTZN8fP8GWB9OteXWzqSV6dKy/mqSjSj90m5v5RR72I4Z4U4fjzcR55QpNb08O/rVT0coypYaL9a9S3mfS/xf/4KnfsHfBm6Ojaz%2B0JpGt6wX8uDQfB27WLyaXtEEtA4Vz6Oy1wy/ti/8FDP2gjt/ZP/AGDW8KaTL/qPFvxz1M6cpB6H%2Bzbcm5II5DBiCK4v4P8A7a37K3gqAWX/AATm/wCCbPjjxXZ7MHxH4Q%2BHMek2E69Mm9uQkkjH/bXJHfiu6b9s7/gpL4nH2XwH/wAEn9QtGl4S%2B8U/FXTLWOH/AGniCF2HspzXB/aNTFfHiHbtQpzd/wDuJKEvvil6nmf8RA8LcqX/AAj5bUxk%2BlTEupUh6xoYWFKk/wDt%2BvUXe%2BowfsRft5/Gf99%2B07/wUh13SLOX/WeHPg1osWipDnqq3zhp3B6fMv8AOug%2BHn/BIX9gnwPq3/CUa/8ABs%2BNtbYg3Gt/ELVZ9ZmuCO7pcMYSfpGKwD4P/wCC0XxZ4174xfBr4S2Uv3D4Y0C613UIR/t/bCIGYf7PFC/8EsPE3j4/a/2lf%2BCgnxt8aSt/rbHS/EaaHprnv/otspA/B%2BBVQwtCclKGCnUf81aS/wDb5Tf3QRjiPGHxDxNGVDLYzw1J6ctGNHAwa7NUUqsl/inJv11PpWBvhF8FtAi0e2bw54T0uMfuLWM29hbqP9lRtUfhXJ67%2B23%2Bxl4YlNv4i/a2%2BGdjIOsV3470%2BN/%2B%2BTNmvKvDn/BGD/gm9oE51C%2B/Z4TW71zma%2B8ReItQvZJT6sJZyn5KK77Qv%2BCdX7BPh2IRab%2Bxr8M2x0a78F2dww/4FLGx/WvUjLO2rRp0or/FN/8ApMYo%2BGqYjijE1HUnGkpPVuU6s233bUVd%2Bd36mfr3/BTv/gnt4ctmutQ/bE8AyKnUWHiCK6b8FhLk/gK4S8/4LWfsEXdy%2BnfDbxj4p8cXiHabPwf4E1K5ct6AvCin8GxXuOhfsnfsseF7lbzw1%2BzT8P8ATpk%2B5LY%2BDbGFl%2BhSIEV3dnZWWnWyWWn2kUEMYxHFDGFVR6ADgU/Z53PerTj6QlL/ANKkl%2BBHseI6m9alD/DTnJ/%2BTTS/A%2BTl/wCCnvxO8S/v/hl/wTH/AGgNRtj/AKu51zwzDpQk91EsrEr70v8Aw3L/AMFA9Y%2BXwf8A8EjPFEzH7v8AbXxO0rTx%2BO9WxX1rRR9RzCXxYuXyhTX6SD%2Bzc0l8eOn/ANu06S/NSPkr/hoX/grzrfzaZ/wTw8D6GD0XWfi1Bclfr9nQZ/Cg%2BJ/%2BC3PiEeXpfwv/AGc/D27rJrOtaxdlR7C3Ayf0r61oo/syq/ixNV/9vRX5QD%2Bx60vjxlZ%2BkoR/9JpnyUPh1/wWnvv9Ju/2jfgZYu3W2svCN/LGv0aRtx/Gg/Av/gsN4l/0PWf27fhx4ai/5/PDvwxF5N9dl24SvrWij%2ByKT3q1X/3El%2Blv0D%2BwqD%2BKvWf/AHGn%2BiX4WPkofsCftsakPtHif/grR8QJrhv9a2leDtOsoyf9mNdwX86P%2BHd37VCfPD/wVa%2BLQfuX0%2BxYfltr61oo/sXAdVL/AMGVP/kw/wBXsr6qb/7i1f8A5YfJX/DvP9rG4/d6l/wVd%2BKrx9ha6TYwt/30FNH/AA7C%2BJ2p8eJv%2BCoP7RUoPX%2ByvF8Nkf8AxyE4r61oo/sXLusW/WdR/wDuQP8AV3KXvGT9alV/%2B5T5K/4dGeDLn/kO/tzftM6oT946h8XZG3fXbAtKP%2BCO3wHx8/7Q3xzc92b4p3WT/wCO19aUUf2HlPWivvk/zmw/1byLrQT9XN/nUZ8l/wDDnr4JJzZ/tK/Hm3PrD8VbkfzQ10P/AATr%2BEGl/AXW/jz8J9F8X%2BItetdJ%2BM0Hlat4s1Zr7UJ/N8I%2BG5j5s7AF9pkKrxwiqvavpOvGf2X/APkt/wC0d/2Wax/9QrwvXRhstwODnz0aai9tL7fOT/I6sJlOW4Co6mHpKLatdX2%2BcmvwPZqKKK7T0QooooAKKKKACiiigAooooAKKKKACiiigAooooAKKKKACiiigAorH%2BIHxE%2BH/wAJvB1/8RPin460bwz4f0uISanrviDU4rKztELBQ0s0zKkYLMoyxAyQO9JH8Rvh7L8Pk%2BLUXjzRm8KyaONWj8TLqkJ09rAxecLsXO7yzAYyJBLu2bTuzjmgDZr85f8AguXmw%2BOXwE8Xjj/hHodV1Hf/AHdviLwemf8AyJX318Mvi18KvjX4VTx18GviZ4f8W6JLM8Mes%2BGNagv7R5EOHQTQOyFlPBGcjvXwT/wXytZm8PabrFouZ9J%2BEniK%2Bg9mTxb4Eyf%2B%2BS1eVnv/ACJsQ%2B0G/us/0Pv/AAqa/wCIl5PB7TxFOH/gxyp/%2B5D9FqKjtLqG9tYr23bdHNGrofUEZFSV6p8C007MKKKKBBRRRQAUUUUAFFFFABRRRQAUUUUAFFFFABRRRQAUUUUAFFFFABRRRQAUUUUAFFFFABRRRQAUUUUAFFFFABRRRQAV4z44/wCUhfwv/wCyM%2BPP/Tt4Qr2avGfHH/KQv4X/APZGfHn/AKdvCFAHs1FFFABXmH7W3xk8ZfBj4YWF98NbPTJfEviTxhovhrQJNbgklsrW41C/htjdTxxSRvLHDHJJN5SyRmUxCMPHv3r6fXG/Hj4JeGv2gfh1L8O/E2sanpe3UrHU9L1rRJo473S9QsrqK7tLuBpY5I98c8MbbZEeNwCjo6MykA8Tv/2x/jP4Z/ZD%2BInxI13w94evfHPw38bzeFtbvrDTbpNGAW%2Btov7Za286SdLWGyu476eATMyCGaMTHAlrzCP/AIKt67qHhMeCvCvjzwX4h8Tv8ZZ/A1n8QfCngXVtY0XUYIvDsPiBtQstHsLqa8vT5Vwlp5MN0wMiSz%2Bb5SFa%2Bl/hz%2BywPhT8PdW8DeC/j144gutckvL3UvE0q6TLqE2rXV09xPqpL2Bh88lxGIvK%2BypFFGiQKFrBP7BngiLwvaR6f8YPG9r40tPG83i5vilHJpj65cavNYNpss8iyWLWLK2nsLQQ/ZBEkUUWxFaNHUA7b4f/ABx8B3X7Ouj/AB68bfGbwncaFLoEN/qXje3/AOJVpEilRvuAt1NIbSMtn93LKzRn5GYsDXE/8E6fE/hrxr%2BzdfeMPBviGx1fSNU%2BLfxDu9M1TTLtLi2u4JPGetNHLFKhKyIykMGUkEEEGvSvgj8HvCPwB%2BFWi/CDwK14%2Bm6JbGOK41G4865uZHdpJZ5nwA0skrvI5AALOcBRgDg/2D/%2BSIa5/wBlm%2BI//qa63QB7NRRRQAUUUUAFFFFABRRUd1dWtjbSXt7cxwwwoXlllcKqKBksSeAAO9AbElFfJv7TH/Ban9gv9m5brTE%2BJx8ba3bZU6P4GRb4K/TD3O4W6YPBHmFhz8pxivE/CX7Q/wDwV/8A%2BClLJc/ATwJp/wCz/wDDW7IK%2BL9bgNzqd3Af4rfzUBkyOVaOKJc5Hn14lfiDLqdb2FFutU/lprmfzfwxXm5GVCdfHUZ1cFSlWhF2lONlSjL%2BWVaTjSUv7qnOf/TvqfeXxh%2BO/wAGf2ffCreNfjd8T9E8L6WCVS61rUEgEzAZ2Rqx3Svj%2BBAWPYV8I/HH/g4P8AX%2Bty/Dr9hr4Ha/8SdcfKward6dcRWQPaRLeJGup1z1UrCeetet/CX/AIItfsq%2BH9dX4jftIat4k%2BNnjORUN34h%2BI%2Bry3UZdQQQltu2GM9kmM2McGvqbwP8Ovh98MtGXw58NvAujeHtOTGyw0PTIrSFcdMJEqqPyrKrT4hxyspxw8X2/eT%2B/SCfopepvgMfjcHU55YWhJrb2sqlWP8A4LpuhGX/AG9U5X1TTPyfKft%2BftluNU/ae/Zg%2BO/j%2BG4Ia3%2BHRMPgLwrGxPCzM8jT3cYPIkcxvg9a%2BkvhD%2Bwd%2B3RrXheLwrrvxq8H/s9%2BDuGHgb4B6Ai3j8YDXGpzjf5wH3nTeGJzX3PRWeG4aw9KbnWqzqSe7b5W/Vx95ry54x8jrz3O%2BKeKKEcLmuYTlhou8cPRUMLhovuqOHUE3/enOpN9Zs%2BUNG/4IyfsW3OoJrvxnh8bfFLVYzkap8R/HN7fSlu5KxvFG2fdTXrfw%2B/Yb/Y1%2BFU0V58Pv2WvAOl3MBBivoPCtqblSOh85kMn/j1eqUV6tHKssw7vToxT78qb%2B93f4nz%2BHyXJ8LLmpYeCfflTf3tSl873AAKAqgAAcAUUUV3nphRRRQAUUUUAFFFFABRRRQAUUUUAFFFFABRRRQAUUUUAFFFFABXjP7L/APyW/wDaO/7LNY/%2BoV4Xr2avGf2X/wDkt/7R3/ZZrH/1CvC9AHs1FFFABRRRQAUUUUAFFFFABRRRQAUUUUAFFFFABRRRQAUUUUAFFFFAHK/G7xF4e8JfCfXfEXinQtU1OytbItJZaL4au9YupHLAR%2BVZ2cM08zBypxHGxXG7gKSPj/w%2B2vfEP/gid4Z%2BBelfBn4gHxTpnwV8O6Zq/h/Vvh9rGl39jNZx2VvePDFd28JuLm2Mcs8VupP2loFCh0fJ%2B6qKAPmv/gm/4b8W6Na/FzxD4gfxnqll4k%2BKI1PR/GXxF8KtoWueJYhoek2z3N1YG1tFgEUls1pGVtLYSRWiOY2ZjPN4D/wV78J/FfU9X8UL428ZeHtS0OT9nbxzc%2BGtN0rwxPZ3dgkGueDZZBc3El7Ml2TsQhkhtwu05DZG39Eq%2BO/%2BCnOjf8JB4h1PSwm5n/ZL%2BLDxr6ulx4Wdf1UVw5nD2mWV494T/wDSZH1PAuJ%2Bp8b5VX/lxOHf/lel/mfTfwN1n/hI/gn4P8Q7932/wtp9xu9d9tG2f1rqa8p/YT1n/hIf2JfhBrTPua4%2BGOgtIc/x/wBnwBv/AB4GvVq2wk/aYSnPvGL%2B%2BMX%2Bp5vEGG%2BpZ/jMP/JWqx/8Bq1Y/wDtoUUUV0HkBRRRQAUUUUAFFFFABRRRQAUUUUAFFFFABRRRQAUUUUAFFFFABRRRQAUUUUAFFFFABRRRQAUUUUAFFFFABRRRQAV4z44/5SF/C/8A7Iz48/8ATt4Qr2avGfHH/KQv4X/9kZ8ef%2BnbwhQB7NRRRQAUUVm%2BMPGXhD4eeF7/AMceP/Fem6Houl2zXGp6xrF9HbWtnCoy0ksshCRoB1ZiAKANKiuc0z4w/CPWvhkPjXo/xS8OXfg06e9%2BPFttrlvJphtEBL3H2pXMXlKFbL7to2nJ4qDRfjr8EfEnwrn%2BOnh34x%2BFb/wRbWVxeXPjGy8Q20ulRW8G7z5mu1cwrHHsfe5bC7GyRg0AdVXjP7B//JENc/7LN8R//U11uvXdF1rR/Emj2niLw7q1tf6ff20dzY31lOssNzC6hkkjdSVdGUghgSCCCK8i/YP/AOSIa5/2Wb4j/wDqa63QB7NRRRQAUUUUAFFV9V1XS9C0y41rXNSt7OztIWmu7u7mWOKGNRlnd2ICqACSScACvzx/a1/4Lfza/wCMv%2BGa/wDgmn4CuPiN431GRraHxJBYtPYwPyGa2iGDdFeSZW2wLtDEyLmvOzHNcDlVJTxErN7Jayk%2B0YrVv8PMKca2JxcMJhqcqtad%2BWnBc05WV20rpKMVrOc5QpwXvTqQSufQf7f/APwUq%2BE/7D%2Bhx%2BHkig8SfEDVIN%2Bi%2BEYr9IBHGTj7XezN8tpbKf435YgheAzL8DLpH/BRj/grnqmZ9Ul1XwZJP81y6XWheB7QA/8ALKP5b3WnXszbRHIuDuQ5r3j9iP8A4ImzL4of9pT/AIKNeJT498c6teDUbjw1dXX2myhuDyGvJDxeSKMKIx%2B4QAgCQEEfohaWlrYWsdjY20cMMMYSGGJAqooGAoA4AA4AFfPrL824gftMfJ0aL2pJ%2B81/fe1321ttZbn0tDBcMZHBVMzpRzDGb%2Bycm8DQ7KSg4PHVV9pynDBxa5YQxCTnP5H/AGPf%2BCNP7Ln7Mt1aeOPHWnRfEHxnbkSR6vremwxWFhJ1JstPjHk2/IDBiHcNyGGcV9eUUV9NgsBg8uo%2Byw0FGPl18292/NtnDnGfZtn1aNTHVebkXLCKUYU6cekKdOEYU6cF0jTpwXV3d5MooorrPICiiigAooooAKKKKACiiigAooooAKKKKACiiigAooooAKKKKACiiigAooooAKKKKACvGf2X/wDkt/7R3/ZZrH/1CvC9ezV4z%2By//wAlv/aO/wCyzWP/AKhXhegD2aiiigAooooAKKKKACiiigAooooAKKKKACiiigAooooAKKKKACiiigAooooAK%2BaP2wtF/wCEj/aJ0nw9s3fb/wBmj4n223133fhRcfrX0vXiPxP06HV/29fhxpNx/q7r4I%2BP4X%2Bjap4RU/zqKsPaUpQ7pr701%2Bp1YHEPB46jiF9icJf%2BAyjL/wBtMv8A4JT6z/b3/BOn4Q32/d5fg6C3z/1xZocf%2BOV9BV8p/wDBErUZr/8A4Jk/DWC64nsRq1pMufumPVrxQP8AvkLX1ZXBk0/aZPh5d6cP/SV/kfWeJWHWE8Rc5or7OKxC/wDK1R/%2B3BRRRXpHxIUUUUAFFFFABRRRQAUUUUAFFFFABRRRQAUUUUAFFFFABRRRQAUUUUAFFFFABRRRQAUUUUAFFFFABRRRQAUUUUAFeM%2BOP%2BUhfwv/AOyM%2BPP/AE7eEK9mrxnxx/ykL%2BF//ZGfHn/p28IUAezUUUUAFeIft/eG/EWu/BPRtW0TwpqWv2nhv4l%2BFdf8QaHo%2BnSXl1eabY61aXNwYraJWkuXhWP7SIUVpJPs%2B1Fdyqn2%2BigD4u8NfD20%2BJP7J/xb8PeL9C8deEdO8T/Eu/8AHnhO2/4Vlql1d2drFrMF3ayvpot/Mma4vbN7yTTsLcvDdkPHG0hx5fqX7Pn7eHxc%2BBXxQ8S2nhjQfFWheO/itqHiy/8ADfi2z1TwTcaxZWvhvS7GySDTDZ6jc20TanYy3X2O4Kyz%2BRA0j4uJkP6Q0UAeO/ss6H8cLP8AYV%2BHnhm/sdH8HeOrX4daVavb6pZXOqWum3MdrEm2eEmxmkYKvzx7oSjll3HbubN/4J02/iW0/ZuvrXxlq1jf6vH8W/iGup32mac9pbXE48Z615kkUDzTNChbJCNLIVBALtjJ90rxn9g//kiGuf8AZZviP/6mut0AezUUUUAFeTftafto/A/9jbwbD4j%2BKmtTT6nqT%2BT4c8KaPF9o1TW7jIAitoActyVBc4RSwBOSAec/bq/bKuf2a/D%2Bk/Dj4S%2BGh4q%2BLfjudrD4e%2BD4jkyzdGvLjBHl2sIy7sSAduMqA7p8J/C39krxL%2B2v8fNY8IWPxW1DxlPayC2%2BPH7QMrArM5H7zwz4cGNkEADFJZkA3IxHyxMIpvnc2zmrQqfVcFHmrPTyTetvN2957KMfem1eMZduRZPmHFWZVcJg5xo0cPFTxOJmm6WGpt6e6mnVrz%2BGjQi1KpNxu4x5pR57Vtb/AG%2Bv%2BC5PxTm8AWOqR%2BCPhLpOoAa5Dpcxm0yx2kMIpp12/wBrX2MMI1Igj%2BQnbuJH6U/sg/sLfs4/sReCv%2BET%2BB3gmO3up4lXVvEV9ibUdTYd5psA7c8iNQsanOFGTXoPwv8Ahd8Pvgt4C0z4YfCzwnZ6HoOj2wg07TbGLbHEg7%2BrMTlmZiWZiWJJJNb9XlWRU8HUeKxMva4iW83rbyjf4UvJJvyWh6uOzTLsJh55dkNOVHDStzym1LEYlp3U8TUikmr6ww9Pkw1HRQpzmnWkUUUV7586FFFFABRRRQAUUUUAFFFFABRRRQAUUUUAFFFFABRRRQAUUUUAFFFFABRRRQAUUUUAFFFFABRRRQAV4z%2By/wD8lv8A2jv%2ByzWP/qFeF69mrxn9l/8A5Lf%2B0d/2Wax/9QrwvQB7NRRRQAUUUUAFFFFABRRRQAUUUUAFFFFABRRRQAUUUUAFFFFABRRRQAUVzXxik%2BJsPwy1if4Oa1oOneJYrXfpl74m0qa%2BsYirAuZYIJ7eSUeWHwqyx/MVy2M1xv7PnxO%2BLH7RX7FHw%2B%2BNGk6n4d0Hxl44%2BG%2Bi669xcaHPe6ZZ3l5ZQXEoFqLuKWSINI4VPtCsBjLnByAer14z44/5SF/C/wD7Iz48/wDTt4Qqv%2Bwl8Yfjj8cPh34q8ZfGjWfCmqQWfxF1nRfCOseEfDVzpUGpadp8wsZLl4Li%2BvGDNe299sdZdrwrCwHzEnGv/i58KPHP/BTbwX4C8E/E7w9rGu%2BGPg944i8S6LpWtQXF3pLyat4S8tbmGNy8BbY%2BA4UnacdDQByX/BGP/iX/ALJGreEOn/CPfFDxLp2z%2B7tv3fH/AJEr60r5L/4JN/8AEt039oLwg3H9j/tOeK4YV9IWNu6H8cmvrSvJyLTKKK7Jr7pTX6H6B4qe94iZlU/nqKf/AIMpYep/7kCiiivWPz8KKKKACiiigAooooAKKKKACiiigAooooAKKKKACiiigAooooAKKKKACiiigAooooAKKKKACiiigAooooAKKKKACvGfHH/KQv4X/wDZGfHn/p28IV7NXjPjj/lIX8L/APsjPjz/ANO3hCgD2aiiigAooryH9tf4kePvh58J9Isvhl4lbQtY8WeP/DvhiHxElpDO%2Bkxahqdvbz3Mcc6PE0wheQReYjxiVoy6OoKMAevUV8pWHxl/aon/AGQ/ihYeDfEGo%2BKvHfw%2B%2BI134Zt/FFroNrLqV9pcV9atNfx2cMSW89/Bp1zLiJIhHNc2oAhAk8quT%2BH/AO0n4y8cfA34s638QP2s/ib4H0b4P/Es6RbeN774f6TZ%2BJPEdpPomk39tBPpt7pRRLhrnVfs8UEVlDPOEtgFDykMAfbNeM/sH/8AJENc/wCyzfEf/wBTXW63vg/8QviboP7KPhP4lftQeHLu18Yx%2BCtOu/HWleG9Cub%2BaHUmt4zdRQ2lks8shEpceXEJMYOCwG48n/wTp8Q2Hi39m6%2B8U6Vb30VtqPxb%2BIdzbxanpc9lcoj%2BM9aYCW3uESaBwDzHIiupyGUEEUAe6Vwv7TXx98H/ALLvwE8U/Hzx1IP7P8M6TJdGDzArXU3Cw26k9GllZI193Fd1X57f8FUP2gfDHi/4223wk1/bd%2BAPgdo6fEH4q2xfEepaj9zRNEc%2Bs08kbMhyGSUN1SvMzfHf2fgZVE0pPSN9ru%2Br8opOT8o%2BZz14ZhiZ0sFl0OfFYicKNGK15qtWShBeib5n/di76Hma%2BCPjr8QPG9l4Hu/EDXP7TH7Q2hpe%2BOdejiPlfCnwM%2BCbO3UnMEroRHjIZnYgsGKyP%2BlHwK%2BB/wAN/wBnD4UaL8F/hL4ej03QtCs1gtIEA3SHq8sjADfK7Zd3PLMxNeN/8E3f2a/E/wALfhrfftAfHOZr/wCLXxZki13x1qNxFte03put9NjU58uK3jYJsBwG3D7qoB9I1xZFl31el9ZqL35rS%2B6i9df78n783/M1HaCR97xHUy3h/LaXCOTVOfDYWTlWqr/mKxb92rXk95Qi1KlQvtTjKaSdXQooor6A%2BKCiiigAooooAKKKKACiiigAooooAKKKKACiiigAooooAKKKKACiiigAooooAKKKKACiiigAooooAKKKKACvGf2X/wDkt/7R3/ZZrH/1CvC9ezV4z%2By//wAlv/aO/wCyzWP/AKhXhegD2aiiigAooooAKKKKACiiigAooooAKKKKACiiigAooooAKKKKACiiigDC%2BJng7VPiD4D1PwXo3xB1nwrcajb%2BSniDw/DZyXlmCQWaJb23uLckgFT5kLjDHABwRxP7OX7MV1%2Bzb8GNC%2BBehftBeOPEGj%2BGfCsWgaFP4ih0f7RaW0MaxW7h7TT4A8kUSLGpdWDBcurtlj6nRQBynwL%2BDng79nn4M%2BFvgX8PxdHRfCOg2uk6dJfTCS4mjgiWMSzOAPMmfaXd8Dc7M3evPfH2o2cH/BRn4U6bNOFmuPgt4/aFD/GE1bwdux7jcOPr6V7bXxT%2B3X8TJPhZ/wAFaP2NdTnuPLsdc03x/oF6M43m8XQVhX/v%2BkJ/CsMTXjhqXtJbJr8Wl%2BpzYvExwlB1ZbJxX3yjH/25HRf8E5/%2BJR%2B0n%2B1T4Q6eR8ZBqO3/AK%2B7NHz%2BOyvrSvkv9jj/AIk//BTL9rfwyflSS68F6jAP73m6TJ5h/wC%2BgBX1pXBkumB5e06i%2B6pP/M/SfE33uK1W/wCfmHwc/wDwLBYZ/wDtoUUUV6x%2BfhRRRQAUUUUAFFFFABRRRQAUUUUAFFFFABRRRQAUUUUAFFFFABRRRQAUUUUAFFFFABRRRQAUUUUAFFFFABRRRQAV4z44/wCUhfwv/wCyM%2BPP/Tt4Qr2avGfHH/KQv4X/APZGfHn/AKdvCFAHs1FFFABXO/Fj4T%2BAfjf4Cvfhn8TdDbUNHv3gkmhivZraWOWGZJ4J4Z4HSWCaKaKOWOWJ1kjkjR0ZWUEdFRQB5x4W/ZR%2BC/gj4e3Xwv8ACFn4k03SL20nhuhZ%2BPNYjupXnupLqe7N0Lv7R9tknlkke98z7S5b5pSAAOb8Sf8ABPX9lXxX4H8P/D/VvCXiRLLwx4pl8S6VeWHxH1601E6zIkkb6hPfwXqXV3cbJXXzZ5ZGAIwRgY9rooAz/CnhnTvBnhqx8J6Rc6hNa6dapb28uratcX9y6KMAy3NzJJNO/q8js7HkkmvKf2D/APkiGuf9lm%2BI/wD6mut17NXjP7B//JENc/7LN8R//U11ugD0T4u/EnQfg38KvEvxb8UPjTvDGhXeqXvzYJighaVgPchcD3Ir8u/2W/hXr/7UXxY%2BHXws8en7fqPjbU/%2BF4/Hy62fI8TsRoOjnP8Ayy2OsnkN0SfIGFFfUf8AwWt%2BIcenfss6X8BLfVns7j4p%2BL7HRLy5h/1lppcT/a7%2B5/3Ehgw3%2BzIas/8ABHr4Y3A%2BBGrftZeKtKjtvEPxl1c6v9mTkado0GbfS7BCescVumV/2ZAD0r5HMV/afEFPBbxhHml82m180oR9HLuz6nghxy3G5hxRPfAUlQw//YZjIzXOvPD4SNWonup1KdrOx9dUUUV9cfLBRRRQAUUUUAFFFFABRRRQAUUUUAFFFFABRRRQAUUUUAFFFFABRRRQAUUUUAFFFFABRRRQAUUUUAFFFFABRRRQAV4z%2By//AMlv/aO/7LNY/wDqFeF69mrxn9l//kt/7R3/AGWax/8AUK8L0AezUUUUAFFFFABRRRQAUUUUAFFFFABRRRQAUUUUAFFFFABRRRQAUUUUAFFFFABX50/8F0tL1Gw%2BIHwr%2BNeh27S6j8K/CuveMNPSP72%2B28R%2BDYmI9MRzyN9Aa/Ravlz9t/4WL8b/AI7ab8IBAJJPEn7NPxN0%2B2GM4mlvvCaxMPcOVYe4FcOZ0JYrLq1KO7i7etrr8Ujzc4w0sZlVehD4pQlb/Fa8f/JoxMb9nzVtPf8A4K5fGO50m5WW18UfCjwvrFtKvSWNN8KuPbDD86%2BvK/Mj9jD4sTeG/ix%2Byp%2B1Hf3RfSPiv8JJPhX4huJTxb6vpczfZXYnnzJ5IGiA74Jx3r9N68/h/ERxGFqNfzuXyqKNRfhJ/cz9J4yxEc1wOSZxS1p4nAYVp/3qMZUKkfWEoJPycXs0FFFFe8fEBRRRQAUUUUAFFFFABRRRQAUUUUAFFFFABRRRQAUUUUAFFFFABRRRQAUUUUAFFFFABRRRQAUUUUAFFFFABRRRQAV4z44/5SF/C/8A7Iz48/8ATt4Qr2avGfHH/KQv4X/9kZ8ef%2BnbwhQB7NRRRQAVzvxX%2BK/gH4I%2BAr34mfE3XG0/R7B4I5porOa5lklmmSCCCKCBHlnmlmljijijRpJJJERFZmAPRV5B%2B2v8N/H3xD%2BE%2BkX3wy8MtruseE/H/h3xPD4dS7hgfVotP1O3uJ7aOSd0iWYwpIYvNdIzKsYd0Ul1ANuy/at%2BAl98C7r9pFPHTQ%2BELGSeG%2BvbzSLu3uba5huTaSWkllLEt0l0LlTB9laITGXEYQuQpx7/APbl/Zr034dWvxNuvFOu/ZLzxE%2Bg2%2BjxeBNZk1xtUSF7h7M6QtodQWZbeN7gobcEQL5xxH89eV%2BFfgT478T/ALO3xQ8PfGT9n7xnbXfjvxveeONP0Dw5r%2BjLqWl3CX8EmnW8M7Xv2ZdSiNha3pLObQSybPOlAbPn3ws/Zd/am%2BDnjG2/a61P4ceNfHWt6j8ZNV8Sav4I1nxDoH/CRpp1z4VstCimeWKa20n7UsmmQyNDBKkUdvdMiM7xbZAD7c8C%2BN/CPxM8FaR8RvAHiC21bQte0yDUdG1Szk3RXdrNGskUqHurIysPY15d%2Bwf/AMkQ1z/ss3xH/wDU11ul/Za%2BAvxD%2BGP7FfhP4F%2BJPGd14Z8UWvh1U1LVPDJtbh9JvJXM0sdsbuCaCVYnkaJWkhZWVAdgyAMz/gnlZT%2BFP2ZdSsPEHi281aTTviv8REvdc1ZLeOe7KeMtaD3Ewt4ooVdsFm8uONASdqqMAAbHxF/wWI%2BIeq/FD9pbxP4U8Lk3P/CsvhxB4c0m3VvveJPFU6Wpi%2Bp0vznHfKfjX6afCT4eaT8IvhX4a%2BFOggfYvDOgWelWmFxmO3hSJTj6IK/K/wDZos7v9qH9pD4SeL9Yt2kk%2BLfxt8Q/FrVo5R81ppGih7TRonHdRMLhFz2cV%2BuNfJ8Of7VisTjn9tpL0%2BL/ANJcD6ZL6j4aZTSek8dUxOPn/hnNYXDX9KGGlJeVR9GFFFFfWHzIUUUUAFFFFABRRRQAUUUUAFFFFABRRRQAUUUUAFFFFABRRRQAUUUUAFFFFABRRRQAUUUUAFFFFABRRRQAUUUUAFeM/sv/APJb/wBo7/ss1j/6hXhevZq8Z/Zf/wCS3/tHf9lmsf8A1CvC9AHs1FFFABRRRQAUUUUAFFFFABRRRQAUUUUAFFFFABRRRQAUUUUAFFFFAGB8Uvib4S%2BDfgLUfiX46fUl0rSo0e7OkaFd6nckM6xqI7WzilnmYsyjbHGx5zjAJqjpHx1%2BEmt/Au0/aXtfHFrF4FvfCkfiWHxHfK9tCulPbC6W6kEyq8S%2BSQ5DqrKOoBBFWvi5rXiDw/8ADTWtV8K/DzV/FeopYstp4e0G4soru8Z8Jtje%2BuLe3UgMWPmSoMKcEnCn5S0H4EftF/FP/gkPov7G2tfBXxN4C8c6N8HtG0j/AIm2taM8cmp6XFap9nSeyvbpVWd7Y7JGUoI5AZAGzHQB9TfCH4x%2BDfjh4Yl8XeB7HxHb2cN41syeKPBmp6FcFwiPuW31K3gmaMrIuJFQoxyAxKsBwfjj/lIX8L/%2ByM%2BPP/Tt4Qqn%2BxD4Q%2BNXhTTfGzfEvQvGWh%2BHr7xTHP4C8M/ETxjHr%2Bt6ZZCwtUuFuL2O7vAySXi3MkcZuZiiP95AVhjyr/wX4k8Pf8FNvBfiLVvi54h12z1b4PeOHsNB1W205LTRQureEspbNbWkU7h9wz9olnPyDaV%2BbIB8gW/wd13Wf2MP2lP2d/BoaHxV8Afjje%2BMvh6Y1y9pBG66jalF673h%2B1qAOpkGK/RX9nv4xaF%2B0H8DfCXxu8N7RZ%2BKfD9rqKRK2fJaSMM8RP8AeR9yH3U182Wd5Z/s4/8ABXrxBp/i%2B2%2Bz%2BHv2ivA1j/ZF5IoNvc65pKNC9o2eA5tX3DP3i6qMk1Z/4JXzzfBnU/i3%2BwRq8zK/wm8dSz%2BF4pWOT4f1PdeWeM/eILS7iOAXAr5LKmsFjlS6PnpP1hKU6f30ptLuorsfT8JtZx4U4rLXrWynEOcV1%2Br4iXs5r0jU%2BrVO1pt9z67ooor60%2BYCiiigAooooAKKKKACiiigAooooAKKKKACiiigAooooAKKKKACiiigAooooAKKKKACiiigAooooAKKKKACiiigArxnxx/ykL%2BF/wD2Rnx5/wCnbwhXs1eM%2BOP%2BUhfwv/7Iz48/9O3hCgD2aiiigAooooAKKKKACvjbWvib/wAKd/4JX/HH4gx3Hkz2fi/4rRWUucbbmfxhrkEB/wC/sqV9k1%2Bbv7V%2BpW%2Bs/wDBPzT/AID3Fxsj%2BJ37Xvifw9eDPS1/4T7W7qaQ/wCyotlJPbNedm9aVDK60478rS9X7q/GSPLzutUoZRXlT%2BLlaj/il7kf/Jpo1f8Agkh8MfM/aV8Ra5cW37j4R/Bzwt8P7KQj5TezwDUtUCjsy3bMp7/PX6G18mf8EZdKutX/AGRLz4/axbeVqfxa8f674t1BGHzIZrx4ET/dCW6kAcANxX1nXLw7RjSyim19q8vlJ6f%2BSqJ%2BneI1Knl/FEsnpfBl9Ojg49v9lowpTt61vby8279Qooor2z4UKKKKACiiigAooooAKKKKACiiigAooooAKKKKACiiigAooooAKKKKACiiigAooooAKKKKACiiigAooooAKKKKACvGf2X/APkt/wC0d/2Wax/9QrwvXs1eM/sv/wDJb/2jv%2ByzWP8A6hXhegD2aiiigAooooAKKKKACiiigAooooAKKKKACiiigAooooAKKKKACiiigAooooAK8Z8cf8pC/hf/ANkZ8ef%2BnbwhXs1eM%2BOP%2BUhfwv8A%2ByM%2BPP8A07eEKAKX/BQr9l7VP2pf2drvRPAl6dP8d%2BF72HxF8OtYjYLJZ6zaEyQ4Y/dEnMRJ4G/dglRXy34j%2BMXiXxx8OfA//BZb4BeGpx4p8I6c3h/4/wDgO1BWS906BwL6IxnlZrWT9/GWwfKZGbhAp/ReviP446d4r/4JqftG%2BJv2sPD/AIUk1z4GfE%2B8hk%2BLmh2NsZZvDOpEeWdZjiGfMgl3fv1AySSefkA%2BbzrCKE/rN2ouyk1vBx1p1bf3HeMu8JO%2BidrybiKrwLxNDPFT9ph5xdHFU3flqUJKz5rapWbi5JNw/d1VrSPsH4bfEXwZ8XfAOj/E/wCHmuw6noevafFe6XfQH5ZYZFDKcdQecFTypBBAIIrbr4G%2BFPxSsf8Agl94re1uJW1v9lX4i6omq%2BAPHGjzG7t/BU9587Wk4XJFjI7bo5Bwu7nczOR946Tq2la/pdtrmhanb3tleQJPZ3lpMskU8TgMro6khlIIIIOCDmvTy7HrGU%2BWdlUjbmj%2BUl3hLeMldNO17po%2Br4s4ZhklaGMwE3Wy/EXlh62jU46Nwny3Ua1LmUKtN2akueKdOpCbsUUUV6J8iFFFFABRRRQAUUUUAFFFFABRRRQAUUUUAFFFFABRRRQAUUUUAFFFFABRRRQAUUUUAFFFFABRRRQAUUUUAFeM%2BOP%2BUhfwv/7Iz48/9O3hCvZq8Z8cf8pC/hf/ANkZ8ef%2BnbwhQB7NRRRQAV5D%2B2v8SPH3w8%2BE%2BkWXwy8StoWseLPH/h3wxD4iS0hnfSYtQ1O3t57mOOdHiaYQvIIvMR4xK0ZdHUFG9ernfix8J/APxv8AAV78M/ibobaho9%2B8Ek0MV7NbSxywzJPBPDPA6SwTRTRRyxyxOskckaOjKyggA%2BZNb/aR/aA8JfsRfFu/g%2BI39reOfh98QLvwhoPiu70y0S71tmv7WK02QRwraHUXjvY7WMeUlu94qFo0jZkXy0ftVftrX%2Bhw/CWx8S/Ey48U23xl1bRtQ8N6bpng9fiFDpEHhy21KFZjOn/COtia7hmeaJtptbq0jVzcmVD9eWv7F37OVp8Kb34Jf8IXqE/hjUreRL/Tr3xVqdwbiaS9e%2Be9eWW4aVr43Tmc3xb7V5gVvNyi4ypf%2BCfn7LMnhmDw2nhLxFDNb%2BIZ9cXxHa/ETXIdefUJrVbSWeTWEvRqEpe2jigYPOymKGKMjbGgUAs/syfHrUvFf7EPgP8AaF%2BKerPrmo3/AIC03UvEl34Q8M31y1zePbx/aDb2MMDXRPmlx5Sxb1wQUGCB%2BbX7QfxdsPF%2BgeE5NEF9DY%2BFrn48ePZrbU9MnsrlJJPEWuWmmNLb3CJNbut04BSRFdSSpVWBFfrZ8P8AwD4N%2BFXgbR/hp8O/DttpGg6BpsNho%2Bl2abYrW2iQJHGo64CgDnJPUkmvxP8AiPc6r8Sdb/anWy3Jd2XxCuvhfocxHV9V%2BI2q6rMqevyxMD/vV81xXVlTylxjvJr/AMlUpfmonp8NZdDO%2BOMjyufw18bhlLtyU6qr1L%2BShQd/K5%2Btf7AfgP8A4Vn%2BxF8J/BTw%2BXNaeANLa7TGMTyWySy/%2BRHevXar6Tplloml22jabCI7e0t0hgjHRURQqj8ABVivfw1FYfDwpLaKS%2B5JfoLOcxqZvnGJx8961SpUf/b85z/9ut8gooorY80KKKKACiiigAooooAKKKKACiiigAooooAKKKKACiiigAooooAKKKKACiiigAooooAKKKKACiiigAooooAKKKKACvGf2X/%2BS3/tHf8AZZrH/wBQrwvXs1eM/sv/APJb/wBo7/ss1j/6hXhegD2aiiigAooooAKKKKACiiigAooooAKKKKACiiigAooooAKKKKACiiigAooooAK8Z8cf8pC/hf8A9kZ8ef8Ap28IV7NXjPjj/lIX8L/%2ByM%2BPP/Tt4QoA9mqDVNL03W9MuNF1rT4Luzu4Hhu7S6iEkc0TqVZHVgQykEgg8EHFT0UNJqzE0mrM%2BF/Ff7N/7Qv/AAT/AIfEWm/s%2B/Cu3%2BMf7PXiGWafXfgzeN5mqeH0mz9oXTfM3LdW7Es32ZgWJICjJeU%2Bf/st/FDx78ItJvvFX/BMjxla/Fn4WwXUlxrX7Pviu/ay8VeDWLZmisjMSxRX3fu3DKSCEMjs0h/SivCf2kv%2BCcP7K37Tmvj4geKfBlz4f8aREPZ%2BPfBd82l6xBIBhZPPi4lYDgGVXwOmK%2BZxWSVqUlPBSty3sr2cb7qErO0X1pzUoduXp1cOZ5n3BdOrhsvjTxOBqtOpg8Rd0pNXtKnJNTozjd8k4tOF7RlyXpk37M3/AAUM/Zj/AGo5z4Y8K%2BMm0HxhbyGHVPh/4ui/s7WrKdfvxtbSHMhXuYy6jPJB4r3Cvzo/aJ/4Jo/ti6tZfZPEP/Cuf2jdIs1C6dceO7aTQfGFpGvKRwavaFfNZSM752IJ6pjgeO237T37f37EC/YrnUvir4Z0iyPPh744%2BD38T6HAo/gj8QaYPtDqBwqrCFAxya51xBjcv93MKErfzJW%2B9Xcf/AZr0R9A8R4cZ371DFVMqrPeljYylQv2p46hCpDl7fWKNN2%2BKe7P15or84fhF/wcMeAbxbbT/jl8DLhJJm2Jqnw51%2B21eOYf89TZyNDdW6ezqzD8cV9M/Cj/AIKr/wDBPv4xOlp4c/ad8O6des2xtO8USvpE6SdPL23ixhmzxhSc9s16uF4hyXGW9nXjfs3yv7pW/Bs2nwJxTLDvE4OgsVRWvtMLOniqdu7lhp1uVf44U/S97fQtFVtH1rRvEOnRaxoGrW19aTruhurOdZY5B6qykgj6VZr2E01dHyUoyhJxkrNbp6NfJ2YUUUUyQooooAKKKKACiiigAooooAKKKKACiiigAooooAKKKKACiiigAooooAKKKKACiiigArxnxx/ykL%2BF/wD2Rnx5/wCnbwhXs1eM%2BOP%2BUhfwv/7Iz48/9O3hCgD2aiiigAoornfiv8V/APwR8BXvxM%2BJuuNp%2Bj2DwRzTRWc1zLJLNMkEEEUECPLPNLNLHFHFGjSSSSIiKzMAQDoqK88sv2rPgLf/AAKu/wBpJPHLxeENPa4jv7280i7guba4guGtZbWSykiW6S6W4UwfZmiE3m4jCFiFONH%2B3P8As0y/D%2BT4jJ4t1r7PF4n/AOEcfRT4H1ga5/a/kC5%2BwDRzaf2gZ/sxFz5Yt93kHzseV89AHrlfkH8JfhvJffFnSPCd5DuuPiH/AMFG/HPiPGP9fp%2BgapfLsPqokabPbn2r9bfCviTTfGXhnTvF2jR3iWeqWMV3apqOmz2dwsciB1EtvcIk0D4I3RyIrocqygggfnj%2BzXHF48/4KSfDzwjGisPAF98ZvFDIo%2B41/wCO9Y07efc7cZrw89oxrUKUX1qQX/gUlf8A8liz7nw4w8FxS8yl/wAweHxldeUlhKtOL/8AAq8fvP0dooor3D4YKKKKACiiigAooooAKKKKACiiigAooooAKKKKACiiigAooooAKKKKACiiigAooooAKKKKACiiigAooooAKKKKACiiigArxn9l/wD5Lf8AtHf9lmsf/UK8L17NXjP7L/8AyW/9o7/ss1j/AOoV4XoA9mooooAKKKKACiiigAooooAKKKKACiiigAooooAKKKKACiiigAooooA5j40aH4t8R/C3W9I8C/ErUvB%2BqyWZe08R6RZWlxc2RRg7GOO8hmgZmVWT95G4G/OCQK8R8O/Ef9qj4tf8EkvDfxc%2BEmsXOo/GPxP8C9J1bS9Qs7XT45rnXLnS4JjKkdyq2aM0rswWRRCCcEBRiveviN8P/D/xU8E6h8PvFVzq8OnapCIruTQfEN7pV2FDBsR3djLFcQkkAExyKSCVOQSDw3w8/Yz%2BBvwp%2BENv8CPAL%2BNrDwxZaImkadZf8LU8Qyy2NmjK0cdvcyXzT25j2KsbxyK8aKERlT5aAKn7G3xLm8eeCNf8O%2BIPFnxA1HxL4R8USaR4rs/idYaLb6vpl21rbXkdu/8AYkUdjLGba6tpkkhMgZZ8Fyysq8vf/E7w34x/4KbeC/Bmk6b4hhvPD3we8cR382q%2BEdRsbSUvq3hLBtrq5gjgvQNpy1u8gXI3Eblz6x8GfgV8MfgD4fvvDnwx0a8t49U1V9T1e91XW7vU77Ubx444jcXN5eyy3FzJ5UMMYaSRiscMaDCooHEeOP8AlIX8L/8AsjPjz/07eEKAPZqKKKACiiigAooooA8w%2BKP7FP7InxqeW5%2BKf7NPgnWrmYkyX934ct/tRJ6/v1USD8GrwH4hf8EEv%2BCcvjeCSDRvh/4h8LiVizDw94rudob1CXTTIPoFx7V9m0V52JyjKsXrWoQl6xV/vST/ABOGWV5dKuq/soqotVJLlmn3U4OE0/NST8z83z/wbu%2BH/AGovq/7Nf7c/wARvBF0TmO4ESSyAjoS1rJakn34re0z9h3/AILX/CRRB8Jv%2BCm%2BieJYY%2BFi8eaM0hlA7M8sF3IPqGz71%2BgVFcEeGMopO9BSp/4Kk4/gpNfgenWxmcV48s8diJJdJVp1EvRV/rH5nwzH8QP%2BC/Xw5WO21f4D/BT4hRIf3k2jaxLZTyj/AHp7iGMZ/wCudaGp/wDBRb/god8PzFB8Uf8Agj54wfCjz7jwf42t9Xz6lY7a3fH03n619rUVsspxVNfusZVX%2BLkn/wClQT/E82WHxkpJvEy/8Bpa%2BrVOL/L0PifV/wDgtx8OvAVqknxo/Yi/aF8HuRmV9W%2BHyJAn0eS4Qke%2B2pdC/wCC/v8AwTY1bC6r8R/EOjsfvpqPhG7YofQ%2BQsn6Zr7TrD8W/DH4a%2BPozF46%2BHmh60pGCuraTDcgj0/eKaUsLn0PgxUH/ipfrGa/Iqlha6Vp4qXr7Kk/w5oX%2B9Hzzov/AAWj/wCCY2v4%2Bw/tV6bHn/n90LUrb/0bbLXWaR/wU8/4J665j7F%2B2J4BTPT7Z4git/8A0aVxU/i7/gmt%2BwF433HXv2P/AIfqz/fk07w3BZOx9S1uqHPvmvMvE/8AwQt/4JoeId76f8C73RZZPvS6P4s1FPyWSd0H4LWEnxZT2VCf/gyP/wAkevQy/B1NJZjyP%2B9hJNf%2BUsXf7kz2/SP21/2Ndfx/Yf7WnwzvC3QWvjvT3P5Caun0j40/BzX8f2D8WfDN7u%2B79k163kz/AN8ua%2BIdf/4Nvv2HL6c3vhrx98RNKm52J/aljdQj6pNZsT/31XH%2BJP8Ag248GXUbReEP2qprEH7v9pfDXTbsj6lGhJrB4/iyn8WDhL/DV/zSPSjw7h6rXss7wn/cShmFL8qeIP0wtb2zvovPsruKZD0eKQMPzFSV%2BTs3/BuN8QfD832rw58avAesSr92XVPD2q6eT9RZ3%2BB%2BAqKX/gin%2B3Z4YI/4RbUfhNNCnQWPxC8X2U5%2BmZXQUv7bz6Hx5fL5ST/I2/1Nzab/AHGZZZP/ALnK1L8K2Aj%2BLP1nor8lv%2BHb/wDwUo8Mf8e/hPxPdbf%2BhU/aZvLPP%2B79qhbH40v/AAy//wAFL/Dn/H58LP2r4UX/AJa6F%2B2LpVyh/wC2LWW78zS/1jxsfjwVRff/APIMf%2BonG0v4McFU/wAGaYJfhUdJ/gfrRRX5Lnwp%2B3Z4f/5Cuk/t0W23r9j8daZq%2BP8AvmNd1H/Cf/tRaJxqvjb/AIKBadjrLL8KrK/iX6uJRn8qP9aEviw8l6v/ADph/wAQ/wDE1/w8pVT/AK943L5/li4/kfrRRX5L/wDDSfxc0n/kKft2/tW6Fjr/AG/%2Bz1bybfrhjR/w25rWl/8AIT/4LZ/ETQ8df7d/ZfWTb9cRmj/WzCL4qbX/AG/TX5uIf8Q88W/s8N4uf%2BD2FT/03XmfrRRX5Sab%2B3jqN6R/Zn/BxFYMD0TUv2X4oMfUvEK6DTf2wviTfY%2Bwf8HAXw2lz0/tD4M2Vt%2Be4jFaR4qwU9o/%2BT0f/lpy1uCvFPDfxuGMwj/3Lv8ARs/Tuivzj039o749X%2BPsP/Bej4Bvnp9u8J6Tb/8AoVwMVu6f8VP2wNRx/Yv/AAWl/Zzv89Nmj6Yc/wDfFya3jxDQntSk/wDt6k//AHMeTWyrjXDfxshx0fXDz/y/U%2B/6K%2BG7DXP%2BCiWoYOk/8FQv2fb7PTZ4egOf%2B%2BJjWzY6L/wVdv8AH9l/t0/Ae8z02eFXOf8AvmSt45zzbUKj9OR/lUPLq184ofxcsxMfWlb85I%2By6K%2BSIfh1/wAFmpkElr%2B1D8EJ1/vf8IdeY/Rqd/wrz/gtQv3f2ifgU3%2B94S1AfyatP7Uqf9A1X/wGP/yw5HnFZOzwdb/wCP8A8sPrWivkr/hAv%2BC1i9Pj58BG%2BvhbUv8AGj/hBP8AgtcOnx4%2BAR%2BvhfU/8aP7Uqf9A1X/AMBX/wAmL%2B2an/QHW/8AAI//ACw%2Bta8Z8cf8pC/hf/2Rnx5/6dvCFeYf8IT/AMFsV6fG79n1v97w3qg/kaqfBPRv229J/wCChXgwftjeMvh5q/mfBnxl/wAI4fAWn3cHlY1bwr9o8/7QfmzmDZt6YfPUVrQx8q1VQdCpG/WUUl83zv8AI3w2ZzxFZU3hqsL9ZRSS9Wpv8tz7Aooor0D1AryD9tf4b%2BPviH8J9Ivvhl4ZbXdY8J%2BP/DvieHw6l3DA%2BrRafqdvcT20ck7pEsxhSQxea6RmVYw7opLr6/RQB8Za98Af2iPGv7IPxd8D3fwHvbPXfiX42uPFY8NXutaZvt7CTU7ZX02O5iunjg1VrC0adJ1Jt4Lq5jZbhjEXHn1p%2BxB8crWHTfiQPg/8U4vD%2BlfGzVtetfh5ZfFa3XxtNo974at9PM1zrv8AaoM9wuowySLu1NpVsZEh84rGLSv0OooA8s%2BA3gT49n9kjwx8P/jV8TdU0v4gDwzBb634m0mSyu761uQB82%2B4t5baedVwjyNCyO4dguGFfFf/AARr0LVdZ/bl/aL1jXPEd/rc/wAPfEGt%2BE11zVYoEuL5rnxdrl/LK4t4ooQ7MAzCONEDN8qKMAfpPXxJ/wAEYvBb6dqP7UXxFuods2uftZeObWNiPvwWmrXCof8AvuWUfhXm46m6uJwy6Kbk/wDt2Erfiz7ThbGU8BkudVH8U8NGlH/uLiaCl98KbTPtuiiivSPiwooooAKKKKACiiigAooooAKKKKACiiigAooooAKKKKACiiigAooooAKKKKACiiigAooooAKKKKACiiigAooooAKKKKACvGf2X/8Akt/7R3/ZZrH/ANQrwvXs1eM/sv8A/Jb/ANo7/ss1j/6hXhegD2aiiigAooooAKKKKACiiigAooooAKKKKACiiigAooooAKKKKACiiigAooooAK8Z8cf8pC/hf/2Rnx5/6dvCFezV84ftH6v8a9H/AG8PhPP8Dvh/4W8Rak3wj8drd2nivxhc6LBHB/anhIl0lt9PvWd920bDGowSd%2BQFIB9H0V4z/wAJx/wUL/6Nf%2BDP/h%2BNW/8AmXo/4Tj/AIKF/wDRr/wZ/wDD8at/8y9AHs1FeM/8Jx/wUL/6Nf8Agz/4fjVv/mXo/wCE4/4KF/8ARr/wZ/8AD8at/wDMvQB7NRXzjpP7R37dusfGfX/gdb/sofCRdU8O%2BF9I128uX%2BOuqeRJBqNzqVvCiEeGNxdW0ucsCoADx4LEsF6j/hOP%2BChf/Rr/AMGf/D8at/8AMvQB7NRXjP8AwnH/AAUL/wCjX/gz/wCH41b/AOZej/hOP%2BChf/Rr/wAGf/D8at/8y9AHs1FeM/8ACcf8FC/%2BjX/gz/4fjVv/AJl65fwD%2B0d%2B3b8RPFfjfwho/wCyh8JIbjwH4oi0LVZLn466oEnnk0rT9TDxbfDBJTydRhUlgp3o4xgBmAPo6ivGf%2BE4/wCChf8A0a/8Gf8Aw/Grf/MvR/wnH/BQv/o1/wCDP/h%2BNW/%2BZegD2aivGf8AhOP%2BChf/AEa/8Gf/AA/Grf8AzL0f8Jx/wUL/AOjX/gz/AOH41b/5l6APZqK%2BcfhF%2B0d%2B3b8ZfCl34v8ADn7KHwktrez8Ua3oUkd78ddUVzPpeq3WmTuNvhhhsaa0kZDnJRlJCnKjqP8AhOP%2BChf/AEa/8Gf/AA/Grf8AzL0AezUV4z/wnH/BQv8A6Nf%2BDP8A4fjVv/mXo/4Tj/goX/0a/wDBn/w/Grf/ADL0AezUV4z/AMJx/wAFC/8Ao1/4M/8Ah%2BNW/wDmXrl/gj%2B0d%2B3b8ePgx4Q%2BOPhX9lD4SWul%2BM/C%2Bn67pttqHx11RZ4YLu2juI0kCeGGUOFkAYKzDIOCRzQB9HUV4z/wnH/BQv8A6Nf%2BDP8A4fjVv/mXo/4Tj/goX/0a/wDBn/w/Grf/ADL0AezUV4z/AMJx/wAFC/8Ao1/4M/8Ah%2BNW/wDmXrl/jd%2B0d%2B3b8B/gx4v%2BOPir9lD4SXWl%2BDPC%2Boa7qVtp/wAddUaeaC0tpLiRIw/hhVLlYyFDMoyRkgc0AfR1FeM/8Jx/wUL/AOjX/gz/AOH41b/5l6P%2BE4/4KF/9Gv8AwZ/8Pxq3/wAy9AHrOpeGvDms5Gr6BZXeev2m1STP/fQNc/qXwC%2BBOs5/tj4K%2BErvPX7T4ctZM/8AfUZrhv8AhOP%2BChf/AEa/8Gf/AA/Grf8AzL0f8Jx/wUL/AOjX/gz/AOH41b/5l6iVKlP4op%2BqT/NHVQx%2BOw38GtOH%2BGco/wDpMkbWpfsV/scazn%2B1/wBkz4Z3Wev2nwHp75/76hNYOof8E4f2BNTz9p/Y1%2BGy56/Z/B9pD/6LQVzfxd/aO/bt%2BDXhS08X%2BI/2UPhJc2954o0TQo47L466ozifVNVtdMgc7vDCjYs13GznOQisQGOFPUf8Jx/wUL/6Nf8Agz/4fjVv/mXrnlgMBP4qMH/25H/5E9ajxbxZh/4WY4iPpXrr/wBzfoYN/wD8Eov%2BCc%2Bo5%2B0fsieEFz/zwtHi/wDQHFY17/wRo/4Jmahnz/2UtJXP/PDV9Qi/9AuBXb/8Jx/wUL/6Nf8Agz/4fjVv/mXo/wCE4/4KF/8ARr/wZ/8AD8at/wDMvWMsnyiW%2BHp/%2BAR/yPTpeI/iHQ/h5xil6Yit/wDLGeaTf8EPf%2BCYLyedbfs2PbSf37bxprKEf%2BTmP0pn/Dk39gSD/kE%2BDfFdh6fY/iDqq4/76nNenf8ACcf8FC/%2BjX/gz/4fjVv/AJl65fx9%2B0d%2B3b8O/FfgjwhrH7KHwkmuPHniiXQtKktvjrqhSCePStQ1MvLu8MAhPJ06ZQVDHe6DGCWXP%2Bwsk/6Bof8AgKX5WOxeK/ifazzrFP1r1Jf%2BlORzP/DmX9k%2BD/kFeN/ipYen2T4l3wx%2BbGj/AIc%2BfBaD/kF/tM/Hux9PsnxVuBj80Nenf8Jx/wAFC/8Ao1/4M/8Ah%2BNW/wDmXo/4Tj/goX/0a/8ABn/w/Grf/MvS/sLJ%2BlCP4r8pIf8AxFXxHfxZpVfr7OX/AKVRkeY/8OlPD8H/ACC/2/v2orH0%2ByfF9hj87c1T%2BCn7Kd1%2BzF/wUL8FrP8AtMfFX4irrXwZ8ZbB8TvFY1Q6f5OreFc/Zz5aeX5nmjf13eVH0xz61/wnH/BQv/o1/wCDP/h%2BNW/%2BZeqHgfwP%2B1Z4x/as8OfG743fDj4e%2BGdG8M/D3xDocMPhX4h32tXV3dalfaJcIzJcaRYpFGiaXKCwd2LSoAuMkbUMqy/DVVUpU7SXnL8nNr8Dz804%2B4wzvAzweOxXtKc7XTp0FezTXvRw0JrVLaa7O6un7rRRRXoHx4UUUUAFFFFABXg3/BOzwppfhj4K%2BLp9NDb9V%2BPPxKvrtmx80reM9YTt2Coo/Cvea%2BSv2SvFn7Z2n/D3xRZ/DH4B/DDV9CT40/EX%2Bz9R174u6jpt3Mv/AAmesljJbRaBcpEQ24ACZ8gA5BO0JxTab6FxqVIQlBPSVrrvZ3X3PU%2BtaK8Z/wCE4/4KF/8ARr/wZ/8AD8at/wDMvR/wnH/BQv8A6Nf%2BDP8A4fjVv/mXpkHs1FeM/wDCcf8ABQv/AKNf%2BDP/AIfjVv8A5l6P%2BE4/4KF/9Gv/AAZ/8Pxq3/zL0AezUV84/BH9o79u348fBjwh8cfCv7KHwktdL8Z%2BF9P13TbbUPjrqizwwXdtHcRpIE8MMocLIAwVmGQcEjmuo/4Tj/goX/0a/wDBn/w/Grf/ADL0AezUV4z/AMJx/wAFC/8Ao1/4M/8Ah%2BNW/wDmXo/4Tj/goX/0a/8ABn/w/Grf/MvQB7NRXzj8bv2jv27fgP8ABjxf8cfFX7KHwkutL8GeF9Q13UrbT/jrqjTzQWltJcSJGH8MKpcrGQoZlGSMkDmuo/4Tj/goX/0a/wDBn/w/Grf/ADL0AezUV4z/AMJx/wAFC/8Ao1/4M/8Ah%2BNW/wDmXo/4Tj/goX/0a/8ABn/w/Grf/MvQB7NRXjP/AAnH/BQv/o1/4M/%2BH41b/wCZeuX%2BLv7R37dvwa8KWni/xH%2Byh8JLm3vPFGiaFHHZfHXVGcT6pqtrpkDnd4YUbFmu42c5yEViAxwpAPo6ivGf%2BE4/4KF/9Gv/AAZ/8Pxq3/zL0f8ACcf8FC/%2BjX/gz/4fjVv/AJl6APZqK8Z/4Tj/AIKF/wDRr/wZ/wDD8at/8y9H/Ccf8FC/%2BjX/AIM/%2BH41b/5l6APZqK%2BcfH37R37dvw78V%2BCPCGsfsofCSa48eeKJdC0qS2%2BOuqFIJ49K1DUy8u7wwCE8nTplBUMd7oMYJZeo/wCE4/4KF/8ARr/wZ/8AD8at/wDMvQB7NRXjP/Ccf8FC/wDo1/4M/wDh%2BNW/%2BZej/hOP%2BChf/Rr/AMGf/D8at/8AMvQB7NRXjP8AwnH/AAUL/wCjX/gz/wCH41b/AOZeuX1b9o79u3R/jPoHwOuP2UPhI2qeIvC%2Br67Z3KfHXVPIjg065023mRyfDG4OzapAVAUghJMlSFDAH0dRXjP/AAnH/BQv/o1/4M/%2BH41b/wCZej/hOP8AgoX/ANGv/Bn/AMPxq3/zL0AezUV4z/wnH/BQv/o1/wCDP/h%2BNW/%2BZej/AITj/goX/wBGv/Bn/wAPxq3/AMy9AHs1FfOOk/tHft26x8Z9f%2BB1v%2Byh8JF1Tw74X0jXby5f466p5EkGo3OpW8KIR4Y3F1bS5ywKgAPHgsSwXqP%2BE4/4KF/9Gv8AwZ/8Pxq3/wAy9AHs1FeM/wDCcf8ABQv/AKNf%2BDP/AIfjVv8A5l6P%2BE4/4KF/9Gv/AAZ/8Pxq3/zL0AezUV4z/wAJx/wUL/6Nf%2BDP/h%2BNW/8AmXrl/AP7R37dvxE8V%2BN/CGj/ALKHwkhuPAfiiLQtVkufjrqgSeeTStP1MPFt8MElPJ1GFSWCnejjGAGYA%2BjqK8Z/4Tj/AIKF/wDRr/wZ/wDD8at/8y9H/Ccf8FC/%2BjX/AIM/%2BH41b/5l6APZq8Z/Zf8A%2BS3/ALR3/ZZrH/1CvC9H/Ccf8FC/%2BjX/AIM/%2BH41b/5l6t/srfDn40%2BD9Y%2BKHjv46aB4X0nVPH3xCi1yz0rwn4ludWt7W1i0HR9MVXuLiys2aRpNOlcqItoWRBuY5wAet0UUUAFFFFABRRRQAUUUUAFFFFABRRRQAUUUUAFFFFABRRRQAUUUUAFFFFABXyv%2B09%2B1p8XPhh8Y/FmteAfDvg%2BTwx8H/D/h%2B98anWtIuJtV1S31e/lS5gsLiO4jSy8i2s47jMkU4uZCkZEPl%2BafqivGfjP%2BxD8OPjd8Uj8TNc8c%2BKtLi1G10i18X%2BGtGurVNO8UwaXeyXtjFfLLbyTBY5ppc/Z5YDLHIYpjLGFQAHs1FFFABRRRQB8x%2BHP2lfiZD%2B3/AOKPg/8AEbWPD3hPw2viC00TwZFqPwi1lLrxjANAg1HEHiNrtdOaWO7udQAtBC8nl2kwCgs0i/TleV%2BLP2WoPH/xk0j4p%2BPfjf411fSvD2ux61oHgC4OmRaNY6hHbvBHOGhskvZdnmSSKk11JGJH3bPkQL6pQAUUUUAeL/8ABQX4u/HD9n79kfxp8evgFe%2BFI9Y8E6Fd65dQeMNFub62u7S1tpZnt0S2urZkldkRRIXKoCxKPwK8/wDHn7Wnxc8F/HjxbqfhTw74Qi%2BHnhD4x%2BEfh94ys5tIuDreq6rrsGipHqEN2lwsMccH9uaTGYpLeV5EhnxLHtQV7D%2B1j%2BzjZftafAjXv2fda%2BKvinwjpPieylsdcv8Awgunfa7mylieKa23X9pdRojq/LIiyAqNrrzni4P2AfB0/wARbP4i%2BKvjj4%2B11jrOk654m0bUJdKisfE%2BuaYkaWOrXsdtYRMtxEILTC2zQQMbG2LxMY8kA97ooooAK8X/AGyfi78cPgla%2BAfGPwsvfCn9jah8TPDnh7xfY%2BINFubm6ubXVdZsdNBs5YbqFLaSNbmWTfIk6koi7OSa9oryr9q79lt/2qvDeheF5/j7438DW%2BheJLDXUbwXDo7Pd3tjeQXlm0p1LT7wbYri3jcLGEDcrJvU7QAecfs8/tK/EzW/2qvFvwR%2BKGr%2BHvCenQ%2BKdbt/BPhKT4Razplzr1tC6Sm/t9auLv7BqDsZJpZYraAvyXYrhifpyvJdJ/ZRD/GTRfjL8R/2gPHfjWbwvd3l34T0LxCNJhsNHurm3ktZLiJbDT7aWV/s808K%2BfJKqLO%2B0AkEetUAFFFFAHh/7d3xc%2BPH7P3wa1f46/Cjxj4FsdP8LaLc3l7ovizwze39z4hvcotnplnJbXsH2ea4lIt0byrpmlniCwsflbz/AOCP7X3xn1z4l%2BCv7W8GeEtI%2BGnjf4n%2BKPht4V8Nadpc0er6Jf6BDq2%2Bee5Fw1vNBI3h/U0WGO3iMatbHzJMsB6f%2B0r%2ByDB%2B0l488EfECb9oHx34QufAN3c3ui2PhiLRp7OS9lQRreTQanp14jzwx%2BYsMgCmMTykfM2RV8B/sNfD3wH8Zbf4uw/EXxdqUGna7qevaJ4Q1K5sv7J0rW9RjePUNUgSK1Sfz5xPdlleZ4Ua%2BuTHFH5nAB7XRRRQAV8v/tc/Hj9pf4LfETT/AAppUPgDxro/jmHWrbRfhzF4PvpNYS1tNDuruS/uJxevFdWwuore2khFrED9vhQTGRkST6grw6b9ia4j/aP8V/tNaJ%2B1X8S9O1fxbpsOnXOlwweH57TT7OGBo4baza50mW5t4lld7rYs2153LuHB20AM/YQ/aD8b/Hv4e3l18V/H2jX3i7ThZtr/AIbsvhdq/hG80B57ZZRBc2Wr3U9w4Lb/AC7gBI5FQ7Q20mvdK83%2BB37N2nfBnxP4k%2BIesfFLxT448VeK4rG31jxP4uawW5e0sxN9ltUi0%2B1tbaOKNrm5cbYQzNcSFmbIx6RQAUUUUAfHP/BQT9uP4qfsYeOf7T1zRdA8Y%2BEX0bUdbt/Csvw51Oylt003Rr7Ukk/4SKa6fTJ7v7Xpo2WKwJdCOZZQNsLSN69%2BzR8Xfjnq3xU8b/s9ftHXPhTUPE/hHSdD1qPWvBWkXNhY3NjqgvI0iMFzc3LrLFcaddqX83EiGJtkZJUVvjr%2Bwl4I/ac1q6tfj/8AFvxr4o8F3MlxIvwyvJNNh0WKSaxmsmbfb2Ud9IBHcTMElunQO%2B7b8iBen/Z8/Zm0j4B3mveIrv4oeLPHHiPxIbOPVvFXjW4s3vpba0iMVraj7HbW8KxRB5WGI97PPK7s7OTQB6VRRRQAV8R/tT/tlftZ/Bv41eIPhR4O8N%2BHPGup2Gi3Gu%2BGAnwP8QRyaKBqOmWqGFvtzjxNILHVLjzv7L8p4WhKyiMTCOvtyvD9e/Yt1PxL49PxO1r9rn4oza3p8F5F4NvCmgAeFVupoZJ/skY0nZOzRwLb7r1bpliZwpV3ZyAdV%2Byx8WH%2BMnwjg8WXvxM0bxVfw6jdWWqX2jeDL7w6La4ilZWtZtN1C4nurOeMYV45nD5%2BbaoYCvRq4b4B/AXw98APDOp6NpXinW/EGo6/r1xrfiTxJ4jmga91W/mCI08ot4oYExHFDEqQxRxqkSAKMEnuaACiiigAooooAKKKKACiiigCj4o8Q2HhLw1qPivVQ5tdMsZru5ES5by40LtgdzhTXzn%2BxN%2B0n8a/H/inR/Bnxs8PeDLMeOvhbZfEbwzD4M0q4tBpkd5cE3en3ZmuJRdzRvc2z/bEEAnaWYmCPaC/0td2lrf2stje26TQzRtHNFKoZXUjBUg8EEcYryH9mb9ivwF%2BzBqr6voHxB8W%2BJZbbwxY%2BGfDo8WXtrMNA0KzeR7fTbU29vCWjUyfNLOZriQRxeZM/lrgA9iooooAK4X9qDx58RfhZ%2BzR8RPid8H/AAouveLfDngXV9U8LaG1jNdDUdRt7OWW2tjDAyyzCSVETy42DtuwpBINd1Wd4t0S/wDEvhjUPD%2Bl%2BK9R0K5vbSSG31rSFga6sXZSBNELiKWIup5AkjdMj5lYZBAPLv2Kfi1P8UPhnfWWrfELw/rOp%2BHdVXTrzTNE%2BGGp%2BDn0NBbQSRWdxpWqXM9zC4RxIrt5aPFLFsTA3v7FXnnwH/Z20n4HXniXxHc/ETxJ4x8SeL9RhvPEXinxW9mLu6MNulvBEI7G2traKKONAFWOFMlnZizMzH0OgAooooA%2BXP2qP2sfih%2Bzh8XvHFl8StG8JeIvhfYfs7%2BL/HttoVvolwmqu2iDS1ntri5kuXt5op1vpwEFshUImXfLCu3/AGZ/i/8AHzVPi54y/Z1/aWfwleeKPDHhjw94lj1XwVpNzY2Ullqz6lbrbGG5ublzLDcaRdgyiQLIjxN5cZ3LUHxj/YV8O/HT46t8ZfHnx28cy6bN4K1PwjffD2GDRf7Eu9G1Jbb7faSF9Na9Ina0gdnF0HUoQjIjMh6T9nf9l3Q/2fb7WvEc/wAUPFvjfxDr9rYWV/4n8bXNpJemwsUkWzsx9ktrePyojPcOCUMjvcyu7uzZoA9PooooAK%2BRPjX%2B0v8AtbeDNd/aA8CW/hXwZ4svfAXh/wAKeJPhtY6T8P8AU7%2BdY9R1XUoQl5axXjy6jPAumxzqbYW5LkhV%2BVWr67rwuX9ijxDF8dPG3x/0L9tD4raVq3jfSLHTLmxsrPww1ppttZXFzPZpbCXRXk/dG8ulBmeUus5EnmFUKgHV/sqfFub4y/CkeJtR%2BJ2jeKdRtdVubHVrrR/BF/4bNncRN81rPpmo3E91aTopXckzBiGVtqqwr0muE%2BAfwD0D4A6FrNjp/i3XPEeq%2BJvEEuueJ/E3iSW3a91W/khhg82QW0MMEYWC3t4VSKKNFSFAFzknu6ACiiigD42/aW/a7/aW/Z4%2BM0Hw21lPhn41vtbggm8Iw6d4WvbSXwXeal4h0zw9pE2pyvfTC6inbV5wWiWzkcWN0sYZfMMXuP7Kvxf%2BJHxGHj/4ffGI6JP4q%2BGnjxvDWs6r4a06azsNT8zS9O1a3uIbeaeeS3za6pbo8bTS4kjkwxBGOFtv%2BCavhJrr4hv4h/aX%2BJ2s2/xJ1465rFvqR0LzLPUoriGfT7m2uotLS6U2D29uLSN5pIolhQMj859Y%2BAfwF0P4B%2BHtW02y8X654k1bxFr02teJ/FHiV7Y3%2Br30kcUPnTC1gggXZBBbwIkUUaLHBGoXgkgHdUUUUAMuftP2aT7Hs87YfK83O3djjOOcZr4g%2BK37XP7afw0%2BImufDa3tvAfjPXvDF74at9W8deCPgrr%2BrR%2BHLfVmvHvbCXSrPUp7u5mjhsrG6JinT93dQtLAgMTSfb13DJcWstvDdSQPJGyrPEFLxkjAZdwK5HUZBHqDXz38GP2AvEHwE%2BG1x8NPh3%2B3V8Yoo7rVn1ObWbyy8Jz6hLdyvLJczzTPoR%2B0yTvLukknEj5jTYUAwQD1n4CfEOy%2BK3wd8P8AxCsPiBo3ipNT08SPr/h/SZrC0u5ASshS1nmmltirqyNDJI7xsrKx3KQOvrkvgX8F/CX7Pvwv074U%2BCrm/uLKwluria%2B1W5E11fXd1cy3V1dTOFUNLNcTzSvtVV3SHaqrhR1tABVHxPD4kufDeoW/g3U7Gy1eSylXS7zU7B7q2guChEcksMcsTTRq2CyLJGWAIDqTuF6s3xjoN/4o8LX/AId0vxbqWg3N5avFBrWjiA3Vi5HE0QuIpYi6nkCSN0OPmVhkUAfD3w3/AG7P2tfjB8U9b%2BCXws034fJ4z02112%2Bk8Z%2BK/hdrWhrqmmaRa6LKljLol5fJqGnyvd%2BIdiTTzPH5UMlwkLrOgP2N8Avi1pvx8%2BBPgr466NpstnZ%2BNfCWm69aWcz7ngivLWO4WNiAMlRIAT6ivFtX/wCCZHgfWtcvviLd/tKfFNPiBqyXlrrXxJtr3SIdWv8ATLq2tbabTCiaaLOG2KWVow8i2ilWSBZVlDlmP0H4L8H%2BGvh54O0nwB4M0mLT9H0PTINP0mwhzstraGNY4o1zzhUVVH0oA06KKKAOX%2BNOo%2BONG%2BFuta38OfENjperWFmbqG%2B1Dwfe%2BIESOMh5QNOsZ4Lm8kaJXVIoZA5dlwrn5G%2BLfhL/AMFEfj94k8aaHqfje48I%2BBPBmpTzr4g8cXnwM8RTW2sX8Ov3WkIlzKt9GnhmeS1tLX9xqjSSwPKsb52BK%2B2/iZ4M13x74Sm8OeG/ilr/AINvJJY3i1/wzFYvdwbWBKqt/bXMDBgCpDxNwTjBwR4rdf8ABObwpqHg%2B4%2BG2rftIfE278Ma5qE1/wCPNAmuNHEXjC7nvGuria%2BlXTRcReaWWFo7OW1iEMSRqijduAPomiiigAooooAKKKKACiiigAooooAKKKKACiiigAooooAKKKKACiiigAooooAKKKKACiiigAooooAKKKKACiiigAooooAKKKKACiiigAooooAKKKKACiiigAooooAKKKKACiiigAooooAKKKKACiiigAooooAKKKKACiiigAooooAKKKKACiiigAooooAKKKKACiiigAooooAKKKKACiiigAooooAKKKKACiiigAooooAKKKKACiiigAooooAKKKKACiiigAooooAKKKKACiiigAooooAKKKKACiiigAooooAKKKKACiiigAooooAKKKKACiiigD//2Q%3D%3D\">"
      ]
     },
     "metadata": {},
     "output_type": "display_data"
    }
   ],
   "source": [
    "s.run(tf.global_variables_initializer())\n",
    "\n",
    "BATCH_SIZE = 512\n",
    "EPOCHS = 40\n",
    "\n",
    "# for logging the progress right here in Jupyter (for those who don't have TensorBoard)\n",
    "simpleTrainingCurves = matplotlib_utils.SimpleTrainingCurves(\"cross-entropy\", \"accuracy\")\n",
    "\n",
    "for epoch in range(EPOCHS):  # we finish an epoch when we've looked at all training samples\n",
    "    \n",
    "    batch_losses = []\n",
    "    for batch_start in range(0, X_train_flat.shape[0], BATCH_SIZE):  # data is already shuffled\n",
    "        _, batch_loss = s.run([step, loss], {input_X: X_train_flat[batch_start:batch_start+BATCH_SIZE], \n",
    "                                             input_y: y_train_oh[batch_start:batch_start+BATCH_SIZE]})\n",
    "        # collect batch losses, this is almost free as we need a forward pass for backprop anyway\n",
    "        batch_losses.append(batch_loss)\n",
    "\n",
    "    train_loss = np.mean(batch_losses)\n",
    "    val_loss = s.run(loss, {input_X: X_val_flat, input_y: y_val_oh})  # this part is usually small\n",
    "    train_accuracy = accuracy_score(y_train, s.run(classes, {input_X: X_train_flat}))  # this is slow and usually skipped\n",
    "    valid_accuracy = accuracy_score(y_val, s.run(classes, {input_X: X_val_flat}))  \n",
    "    simpleTrainingCurves.add(train_loss, val_loss, train_accuracy, valid_accuracy)"
   ]
  },
  {
   "cell_type": "markdown",
   "metadata": {},
   "source": [
    "# Submit a linear model"
   ]
  },
  {
   "cell_type": "code",
   "execution_count": 77,
   "metadata": {
    "collapsed": true
   },
   "outputs": [],
   "source": [
    "## GRADED PART, DO NOT CHANGE!\n",
    "# Testing shapes \n",
    "grader.set_answer(\"9XaAS\", grading_utils.get_tensors_shapes_string([W, b, input_X, input_y, logits, probas, classes]))\n",
    "# Validation loss\n",
    "grader.set_answer(\"vmogZ\", s.run(loss, {input_X: X_val_flat, input_y: y_val_oh}))\n",
    "# Validation accuracy\n",
    "grader.set_answer(\"RMv95\", accuracy_score(y_val, s.run(classes, {input_X: X_val_flat})))"
   ]
  },
  {
   "cell_type": "code",
   "execution_count": 78,
   "metadata": {},
   "outputs": [
    {
     "name": "stdout",
     "output_type": "stream",
     "text": [
      "Submitted to Coursera platform. See results on assignment page!\n"
     ]
    }
   ],
   "source": [
    "# you can make submission with answers so far to check yourself at this stage\n",
    "grader.submit(COURSERA_EMAIL, COURSERA_TOKEN)"
   ]
  },
  {
   "cell_type": "markdown",
   "metadata": {},
   "source": [
    "# MLP with hidden layers"
   ]
  },
  {
   "cell_type": "markdown",
   "metadata": {},
   "source": [
    "Previously we've coded a dense layer with matrix multiplication by hand. \n",
    "But this is not convenient, you have to create a lot of variables and your code becomes a mess. \n",
    "In TensorFlow there's an easier way to make a dense layer:\n",
    "```python\n",
    "hidden1 = tf.layers.dense(inputs, 256, activation=tf.nn.sigmoid)\n",
    "```\n",
    "\n",
    "That will create all the necessary variables automatically.\n",
    "Here you can also choose an activation function (remember that we need it for a hidden layer!).\n",
    "\n",
    "Now define the MLP with 2 hidden layers and restart training with the cell above.\n",
    "\n",
    "You're aiming for ~0.97 validation accuracy here."
   ]
  },
  {
   "cell_type": "code",
   "execution_count": 96,
   "metadata": {
    "collapsed": true
   },
   "outputs": [],
   "source": [
    "# write the code here to get a new `step` operation and then run the cell with training loop above.\n",
    "# name your variables in the same way (e.g. logits, probas, classes, etc) for safety.\n",
    "### YOUR CODE HERE ###\n",
    "\n",
    "hidden1 = tf.layers.dense(input_X, 256, activation=tf.nn.sigmoid)\n",
    "hidden2 = tf.layers.dense(hidden1, 256, activation=tf.nn.sigmoid)\n",
    "logits = tf.layers.dense(hidden2, 10, activation=None)\n",
    "probas = tf.nn.softmax(logits) ### YOUR CODE HERE ### apply tf.nn.softmax to logits\n",
    "classes = tf.argmax(probas, axis=1) ### YOUR CODE HERE ### apply tf.argmax to find a class index with highest probability\n",
    "\n",
    "loss = tf.reduce_mean(tf.nn.softmax_cross_entropy_with_logits(labels=input_y, logits=logits)) ### YOUR CODE HERE ### cross-entropy loss\n",
    "\n",
    "\n",
    "optimizer = tf.train.AdamOptimizer()\n",
    "step = optimizer.minimize(loss)"
   ]
  },
  {
   "cell_type": "markdown",
   "metadata": {},
   "source": [
    "# Submit the MLP with 2 hidden layers\n",
    "Run these cells after training the MLP with 2 hidden layers"
   ]
  },
  {
   "cell_type": "code",
   "execution_count": null,
   "metadata": {
    "collapsed": true
   },
   "outputs": [],
   "source": [
    "## GRADED PART, DO NOT CHANGE!\n",
    "# Validation loss for MLP\n",
    "grader.set_answer(\"i8bgs\", s.run(loss, {input_X: X_val_flat, input_y: y_val_oh}))\n",
    "# Validation accuracy for MLP\n",
    "grader.set_answer(\"rE763\", accuracy_score(y_val, s.run(classes, {input_X: X_val_flat})))"
   ]
  },
  {
   "cell_type": "code",
   "execution_count": null,
   "metadata": {
    "collapsed": true
   },
   "outputs": [],
   "source": [
    "# you can make submission with answers so far to check yourself at this stage\n",
    "grader.submit(COURSERA_EMAIL, COURSERA_TOKEN)"
   ]
  },
  {
   "cell_type": "code",
   "execution_count": null,
   "metadata": {
    "collapsed": true
   },
   "outputs": [],
   "source": []
  }
 ],
 "metadata": {
  "kernelspec": {
   "display_name": "Python 3",
   "language": "python",
   "name": "python3"
  },
  "language_info": {
   "codemirror_mode": {
    "name": "ipython",
    "version": 3
   },
   "file_extension": ".py",
   "mimetype": "text/x-python",
   "name": "python",
   "nbconvert_exporter": "python",
   "pygments_lexer": "ipython3",
   "version": "3.6.2"
  }
 },
 "nbformat": 4,
 "nbformat_minor": 1
}
